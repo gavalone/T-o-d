{
  "nbformat": 4,
  "nbformat_minor": 0,
  "metadata": {
    "colab": {
      "provenance": []
    },
    "kernelspec": {
      "name": "python3",
      "display_name": "Python 3"
    },
    "language_info": {
      "name": "python"
    }
  },
  "cells": [
    {
      "cell_type": "code",
      "execution_count": 9,
      "metadata": {
        "colab": {
          "base_uri": "https://localhost:8080/"
        },
        "id": "5fyyN4jRUUed",
        "outputId": "ed45ad4a-e2a4-42f2-8ce3-dd91556d5953"
      },
      "outputs": [
        {
          "output_type": "stream",
          "name": "stdout",
          "text": [
            "[[127244     60     16]\n",
            " [ 23891     25      7]\n",
            " [ 94746     10      6]\n",
            " [ 67660      5      6]\n",
            " [157911     60     14]]\n"
          ]
        }
      ],
      "source": [
        "import numpy as np\n",
        "\n",
        "f = np.loadtxt('minutes_n_ingredients.csv', delimiter=',',skiprows=1, dtype=np.int32)\n",
        "print(f[:5,:])"
      ]
    },
    {
      "cell_type": "code",
      "source": [
        "f1 = f[:,1:]\n",
        "print('Среднее значение равно ',np.mean(f1,axis=0))\n",
        "print('Минимум равен ',np.min(f1,axis=0))\n",
        "print('Максимум равен ',np.max(f1,axis=0))\n",
        "print('Медиана равна ',np.median(f1,axis=0))"
      ],
      "metadata": {
        "colab": {
          "base_uri": "https://localhost:8080/"
        },
        "id": "PK7o_61OZfgC",
        "outputId": "1d1ebbeb-6ba8-4b04-d38f-6fae48ff9776"
      },
      "execution_count": 12,
      "outputs": [
        {
          "output_type": "stream",
          "name": "stdout",
          "text": [
            "Среднее значение равно  [2.16010017e+04 9.05528000e+00]\n",
            "Минимум равен  [0 1]\n",
            "Максимум равен  [2147483647         39]\n",
            "Медиана равна  [40.  9.]\n"
          ]
        }
      ]
    },
    {
      "cell_type": "code",
      "source": [],
      "metadata": {
        "id": "eO2cL2vZb4RD"
      },
      "execution_count": 22,
      "outputs": []
    },
    {
      "cell_type": "code",
      "source": [
        "k = len(f[f[:,1]==0])\n",
        "print(k) \n",
        "f[f[:,1]==0]=1"
      ],
      "metadata": {
        "colab": {
          "base_uri": "https://localhost:8080/"
        },
        "id": "T67gtW8NefYK",
        "outputId": "7a1a4274-9908-4797-b2f0-0282933b5888"
      },
      "execution_count": 15,
      "outputs": [
        {
          "output_type": "stream",
          "name": "stdout",
          "text": [
            "479\n"
          ]
        }
      ]
    },
    {
      "cell_type": "code",
      "source": [
        "un = len(np.unique(f[:,0]))\n",
        "print(un)"
      ],
      "metadata": {
        "colab": {
          "base_uri": "https://localhost:8080/"
        },
        "id": "zUgIdomwfgQK",
        "outputId": "d550f743-9b14-4c76-a573-14e6001700e0"
      },
      "execution_count": 16,
      "outputs": [
        {
          "output_type": "stream",
          "name": "stdout",
          "text": [
            "99522\n"
          ]
        }
      ]
    },
    {
      "cell_type": "code",
      "source": [
        "l = len(np.unique(f[:,2]))\n",
        "print(l)\n",
        "print(np.unique(f[:,2]))"
      ],
      "metadata": {
        "colab": {
          "base_uri": "https://localhost:8080/"
        },
        "id": "1stGGP12fs2l",
        "outputId": "96e50ddb-fbf1-40ca-f5f7-6c495b49afd0"
      },
      "execution_count": 21,
      "outputs": [
        {
          "output_type": "stream",
          "name": "stdout",
          "text": [
            "37\n",
            "[ 1  2  3  4  5  6  7  8  9 10 11 12 13 14 15 16 17 18 19 20 21 22 23 24\n",
            " 25 26 27 28 29 30 31 32 33 34 35 37 39]\n"
          ]
        }
      ]
    },
    {
      "cell_type": "code",
      "source": [
        "f2 = f[f[:,2]<=5]\n",
        "print(f2)"
      ],
      "metadata": {
        "colab": {
          "base_uri": "https://localhost:8080/"
        },
        "id": "T70uav9ogr9T",
        "outputId": "844afac3-6866-4d9b-9383-7cf2ac61acf3"
      },
      "execution_count": 22,
      "outputs": [
        {
          "output_type": "stream",
          "name": "stdout",
          "text": [
            "[[446597     15      5]\n",
            " [204134      5      3]\n",
            " [ 25623      6      4]\n",
            " ...\n",
            " [ 52088     60      5]\n",
            " [128811     15      4]\n",
            " [370915      5      4]]\n"
          ]
        }
      ]
    },
    {
      "cell_type": "code",
      "source": [
        "sr = f[:,2]/f[:,1]\n",
        "print(sr)\n",
        "print(np.max(sr))"
      ],
      "metadata": {
        "colab": {
          "base_uri": "https://localhost:8080/"
        },
        "id": "yPyXpWaZhPoI",
        "outputId": "29fd39ab-fef8-4a1f-daa8-ca0d7d12efc2"
      },
      "execution_count": 36,
      "outputs": [
        {
          "output_type": "stream",
          "name": "stdout",
          "text": [
            "[0.26666667 0.28       0.6        ... 0.23076923 0.8        0.1       ]\n",
            "inf\n"
          ]
        },
        {
          "output_type": "stream",
          "name": "stderr",
          "text": [
            "<ipython-input-36-277dc4886424>:1: RuntimeWarning: divide by zero encountered in true_divide\n",
            "  sr = f[:,2]/f[:,1]\n"
          ]
        }
      ]
    },
    {
      "cell_type": "code",
      "source": [
        "a = f[f[:,1].argsort()]\n",
        "a = a[-100:]\n",
        "print(np.mean(a[:,2]))"
      ],
      "metadata": {
        "colab": {
          "base_uri": "https://localhost:8080/"
        },
        "id": "cgXU_6qbhPrG",
        "outputId": "736bf5c9-edcb-432b-9310-bebd1f458808"
      },
      "execution_count": 23,
      "outputs": [
        {
          "output_type": "stream",
          "name": "stdout",
          "text": [
            "6.61\n"
          ]
        }
      ]
    },
    {
      "cell_type": "code",
      "source": [
        "index = np.random.choice(f.shape[0], 10, replace=False)\n",
        "print(f[index])"
      ],
      "metadata": {
        "colab": {
          "base_uri": "https://localhost:8080/"
        },
        "id": "mA4xNFvAh_9G",
        "outputId": "84774ac1-ecd0-4501-d4a9-6fa26daecf92"
      },
      "execution_count": 24,
      "outputs": [
        {
          "output_type": "stream",
          "name": "stdout",
          "text": [
            "[[132561     20     13]\n",
            " [ 42104     35      9]\n",
            " [309401     60      3]\n",
            " [111661     35     16]\n",
            " [ 52088     60      5]\n",
            " [376411     15     16]\n",
            " [452155     65      5]\n",
            " [282709     12      8]\n",
            " [ 25495     40      8]\n",
            " [249559     30     10]]\n"
          ]
        }
      ]
    },
    {
      "cell_type": "code",
      "source": [
        "m = np.mean(f[:,2])\n",
        "b = len(f[f[:,2]<m])\n",
        "print(100*b/len(f))"
      ],
      "metadata": {
        "colab": {
          "base_uri": "https://localhost:8080/"
        },
        "id": "nY36_7mFicct",
        "outputId": "f5129cea-efee-403e-af4f-c6ca1672059e"
      },
      "execution_count": 30,
      "outputs": [
        {
          "output_type": "stream",
          "name": "stdout",
          "text": [
            "58.802\n"
          ]
        }
      ]
    },
    {
      "cell_type": "code",
      "source": [
        "new_f=f.copy()\n",
        "simple = [1 if (row[1]<=20)and(row[2]<=5) else 0 for row in new_f]\n",
        "c = np.insert(new_f,3,simple,axis=1)\n",
        "print(c)"
      ],
      "metadata": {
        "colab": {
          "base_uri": "https://localhost:8080/"
        },
        "id": "zSP-ce3mjQKx",
        "outputId": "86f35f9a-7e37-404c-cc26-04cf5a5087f1"
      },
      "execution_count": 34,
      "outputs": [
        {
          "output_type": "stream",
          "name": "stdout",
          "text": [
            "[[127244     60     16      0]\n",
            " [ 23891     25      7      0]\n",
            " [ 94746     10      6      0]\n",
            " ...\n",
            " [498432     65     15      0]\n",
            " [370915      5      4      1]\n",
            " [ 81993    140     14      0]]\n"
          ]
        }
      ]
    },
    {
      "cell_type": "code",
      "source": [
        "simple1=c[:,3]==1\n",
        "print(len(f[simple1,:])/len(c)*100)"
      ],
      "metadata": {
        "colab": {
          "base_uri": "https://localhost:8080/"
        },
        "id": "2xbqLMYDk8pI",
        "outputId": "3137970a-970d-4161-8d04-2ad60be9b76d"
      },
      "execution_count": 35,
      "outputs": [
        {
          "output_type": "stream",
          "name": "stdout",
          "text": [
            "9.552\n"
          ]
        }
      ]
    },
    {
      "cell_type": "code",
      "source": [],
      "metadata": {
        "id": "D9t3L9uilmyy"
      },
      "execution_count": null,
      "outputs": []
    }
  ]
}