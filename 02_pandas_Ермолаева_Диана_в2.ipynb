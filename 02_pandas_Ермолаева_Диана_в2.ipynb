{
  "nbformat": 4,
  "nbformat_minor": 0,
  "metadata": {
    "colab": {
      "provenance": []
    },
    "kernelspec": {
      "name": "python3",
      "display_name": "Python 3"
    },
    "language_info": {
      "name": "python"
    }
  },
  "cells": [
    {
      "cell_type": "markdown",
      "source": [
        "1.1 В файлах recipes_sample.csv и reviews_sample.csv находится информация об рецептах блюд и отзывах на эти рецепты соответственно. Загрузите данные из файлов в виде pd.DataFrame с названиями recipes и reviews. Обратите внимание на корректное считывание столбца с индексами в таблице reviews (безымянный столбец).\n"
      ],
      "metadata": {
        "id": "jh7ZPMEq7m5l"
      }
    },
    {
      "cell_type": "code",
      "source": [
        "import pandas as pd\n",
        "\n",
        "recipes = pd.read_csv('recipes_sample.csv',sep=',')\n",
        "print(recipes.head())\n",
        "reviews = pd.read_csv('reviews_sample.csv',index_col=0, sep=',')\n",
        "print(reviews.head())"
      ],
      "metadata": {
        "colab": {
          "base_uri": "https://localhost:8080/"
        },
        "id": "FKyDQMrV479f",
        "outputId": "f9b1d47e-4145-4310-b91f-9fd352bd63e5"
      },
      "execution_count": 6,
      "outputs": [
        {
          "output_type": "stream",
          "name": "stdout",
          "text": [
            "                                       name     id  minutes  contributor_id  \\\n",
            "0     george s at the cove  black bean soup  44123       90           35193   \n",
            "1        healthy for them  yogurt popsicles  67664       10           91970   \n",
            "2              i can t believe it s spinach  38798       30            1533   \n",
            "3                      italian  gut busters  35173       45           22724   \n",
            "4  love is in the air  beef fondue   sauces  84797       25            4470   \n",
            "\n",
            "    submitted  n_steps                                        description  \\\n",
            "0  2002-10-25      NaN  an original recipe created by chef scott meska...   \n",
            "1  2003-07-26      NaN  my children and their friends ask for my homem...   \n",
            "2  2002-08-29      NaN            these were so go, it surprised even me.   \n",
            "3  2002-07-27      NaN  my sister-in-law made these for us at a family...   \n",
            "4  2004-02-23      4.0  i think a fondue is a very romantic casual din...   \n",
            "\n",
            "   n_ingredients  \n",
            "0           18.0  \n",
            "1            NaN  \n",
            "2            8.0  \n",
            "3            NaN  \n",
            "4            NaN  \n",
            "           user_id  recipe_id        date  rating  \\\n",
            "370476       21752      57993  2003-05-01       5   \n",
            "624300      431813     142201  2007-09-16       5   \n",
            "187037      400708     252013  2008-01-10       4   \n",
            "706134  2001852463     404716  2017-12-11       5   \n",
            "312179       95810     129396  2008-03-14       5   \n",
            "\n",
            "                                                   review  \n",
            "370476  Last week whole sides of frozen salmon fillet ...  \n",
            "624300  So simple and so tasty!  I used a yellow capsi...  \n",
            "187037  Very nice breakfast HH, easy to make and yummy...  \n",
            "706134  These are a favorite for the holidays and so e...  \n",
            "312179  Excellent soup!  The tomato flavor is just gre...  \n"
          ]
        }
      ]
    },
    {
      "cell_type": "markdown",
      "source": [
        "1.2 Для каждой из таблиц выведите основные параметры:\n",
        "\n",
        "количество точек данных (строк);\n",
        "количество столбцов;\n",
        "тип данных каждого столбца."
      ],
      "metadata": {
        "id": "uzrpITpF6PuQ"
      }
    },
    {
      "cell_type": "code",
      "source": [
        "print(f'Таблица recipes: \\nСтрок: {len(recipes)}\\nСтолбцов: {len(recipes.axes[1])}\\n{recipes.dtypes}')\n",
        "print(f'Таблица reviews: \\nСтрок: {len(reviews)}\\nСтолбцов: {len(reviews.axes[1])}\\n{reviews.dtypes}')\n"
      ],
      "metadata": {
        "colab": {
          "base_uri": "https://localhost:8080/"
        },
        "id": "KKmUJ3on4yrt",
        "outputId": "f97ffa48-ef89-4f7a-c343-bd2a17f0e2f2"
      },
      "execution_count": 7,
      "outputs": [
        {
          "output_type": "stream",
          "name": "stdout",
          "text": [
            "Таблица recipes: \n",
            "Строк: 30000\n",
            "Столбцов: 8\n",
            "name               object\n",
            "id                  int64\n",
            "minutes             int64\n",
            "contributor_id      int64\n",
            "submitted          object\n",
            "n_steps           float64\n",
            "description        object\n",
            "n_ingredients     float64\n",
            "dtype: object\n",
            "Таблица reviews: \n",
            "Строк: 126696\n",
            "Столбцов: 5\n",
            "user_id       int64\n",
            "recipe_id     int64\n",
            "date         object\n",
            "rating        int64\n",
            "review       object\n",
            "dtype: object\n"
          ]
        }
      ]
    },
    {
      "cell_type": "markdown",
      "source": [
        "1.3 Исследуйте, в каких столбцах таблиц содержатся пропуски. Посчитайте долю строк, содержащих пропуски, в отношении к общему количеству строк."
      ],
      "metadata": {
        "id": "-B--EBVP46xW"
      }
    },
    {
      "cell_type": "code",
      "source": [
        "print('Таблица recipes: ')\n",
        "print(recipes.isnull().sum())\n",
        "print('Доля: ')\n",
        "print(sum([True for i, row in recipes.iterrows() if any(row.isnull())])/len(recipes))\n",
        "print('Таблица rewievs: ')\n",
        "print(reviews.isnull().sum())\n",
        "print('Доля: ')\n",
        "print(sum([True for i, row in reviews.iterrows() if any(row.isnull())])/len(reviews))"
      ],
      "metadata": {
        "colab": {
          "base_uri": "https://localhost:8080/"
        },
        "id": "iJzKH-kk7lo6",
        "outputId": "f8a484ff-b8a1-4100-9f15-ad4213d5e3ba"
      },
      "execution_count": 14,
      "outputs": [
        {
          "output_type": "stream",
          "name": "stdout",
          "text": [
            "Таблица recipes: \n",
            "name                  0\n",
            "id                    0\n",
            "minutes               0\n",
            "contributor_id        0\n",
            "submitted             0\n",
            "n_steps           11190\n",
            "description         623\n",
            "n_ingredients      8880\n",
            "dtype: int64\n",
            "Доля: \n",
            "0.5684666666666667\n",
            "Таблица rewievs: \n",
            "user_id       0\n",
            "recipe_id     0\n",
            "date          0\n",
            "rating        0\n",
            "review       17\n",
            "dtype: int64\n",
            "Доля: \n",
            "0.00013417945317926376\n"
          ]
        }
      ]
    },
    {
      "cell_type": "markdown",
      "source": [
        "1.4 Рассчитайте среднее значение для каждого из числовых столбцов (где это имеет смысл)."
      ],
      "metadata": {
        "id": "wo-pRhu49iZL"
      }
    },
    {
      "cell_type": "code",
      "source": [
        "print('Таблица recipes: ')\n",
        "for column in recipes.select_dtypes(include=[float,int]):\n",
        "  print(column, ':',round(recipes[column].mean(),2))\n",
        "print('Таблица recviews: ')\n",
        "for column in reviews.select_dtypes(include=[float,int]):\n",
        "  print(column, ':',round(reviews[column].mean(),2))"
      ],
      "metadata": {
        "colab": {
          "base_uri": "https://localhost:8080/"
        },
        "id": "29zcEXx59o6p",
        "outputId": "2f0ed791-bf94-41bb-92df-3701d7e9e3dd"
      },
      "execution_count": 16,
      "outputs": [
        {
          "output_type": "stream",
          "name": "stdout",
          "text": [
            "Таблица recipes: \n",
            "id : 221879.29\n",
            "minutes : 123.36\n",
            "contributor_id : 5635900.57\n",
            "n_steps : 9.81\n",
            "n_ingredients : 9.01\n",
            "Таблица recviews: \n",
            "user_id : 140801264.74\n",
            "recipe_id : 160094.39\n",
            "rating : 4.41\n"
          ]
        }
      ]
    },
    {
      "cell_type": "markdown",
      "source": [
        "1.5 Создайте серию из 10 случайных названий рецептов."
      ],
      "metadata": {
        "id": "1xBUXw-F-SQi"
      }
    },
    {
      "cell_type": "code",
      "source": [
        "print(recipes['name'].sample(10))"
      ],
      "metadata": {
        "colab": {
          "base_uri": "https://localhost:8080/"
        },
        "id": "FHnbOzfF-Tw7",
        "outputId": "73236ab5-c305-42dd-98c0-72351c1b1ad6"
      },
      "execution_count": 19,
      "outputs": [
        {
          "output_type": "stream",
          "name": "stdout",
          "text": [
            "18129                 moroccan harira soup\n",
            "20309                        peanut sticks\n",
            "9002     curried oysters with banana salsa\n",
            "28254         turshi khiyar  iraqi pickles\n",
            "2980             better than whipped cream\n",
            "16740                           magic stew\n",
            "25299                spicy baked bean soup\n",
            "21815                         quaker punch\n",
            "27790               tomato florentine soup\n",
            "15986              lemon basil potato puff\n",
            "Name: name, dtype: object\n"
          ]
        }
      ]
    },
    {
      "cell_type": "markdown",
      "source": [
        "1.6 Измените индекс в таблице reviews, пронумеровав строки, начиная с нуля."
      ],
      "metadata": {
        "id": "AaXwWvkh-j3W"
      }
    },
    {
      "cell_type": "code",
      "source": [
        "reviews = reviews.reset_index(drop=True)\n",
        "print(reviews.head())"
      ],
      "metadata": {
        "colab": {
          "base_uri": "https://localhost:8080/"
        },
        "id": "oVlZ4Ztu-ldf",
        "outputId": "9891c15f-2126-4b51-9d65-91acadc4c677"
      },
      "execution_count": 26,
      "outputs": [
        {
          "output_type": "stream",
          "name": "stdout",
          "text": [
            "      user_id  recipe_id        date  rating  \\\n",
            "0       21752      57993  2003-05-01       5   \n",
            "1      431813     142201  2007-09-16       5   \n",
            "2      400708     252013  2008-01-10       4   \n",
            "3  2001852463     404716  2017-12-11       5   \n",
            "4       95810     129396  2008-03-14       5   \n",
            "\n",
            "                                              review  \n",
            "0  Last week whole sides of frozen salmon fillet ...  \n",
            "1  So simple and so tasty!  I used a yellow capsi...  \n",
            "2  Very nice breakfast HH, easy to make and yummy...  \n",
            "3  These are a favorite for the holidays and so e...  \n",
            "4  Excellent soup!  The tomato flavor is just gre...  \n"
          ]
        }
      ]
    },
    {
      "cell_type": "markdown",
      "source": [
        "1.7 Выведите информацию о рецептах, время выполнения которых не больше 20 минут и кол-во ингредиентов в которых не больше 5."
      ],
      "metadata": {
        "id": "KmwhEWc8_a0w"
      }
    },
    {
      "cell_type": "code",
      "source": [
        "print(recipes[(recipes['minutes']<=20)&(recipes['n_ingredients']<=5)])"
      ],
      "metadata": {
        "colab": {
          "base_uri": "https://localhost:8080/"
        },
        "id": "q3ktavUN_cvL",
        "outputId": "85984051-5605-4e97-ead9-78e1294599dc"
      },
      "execution_count": 34,
      "outputs": [
        {
          "output_type": "stream",
          "name": "stdout",
          "text": [
            "                                                    name      id  minutes  \\\n",
            "28                                   quick biscuit bread  302399       20   \n",
            "60                         peas  fit for a king or queen  303944       20   \n",
            "90                     hawaiian sunrise           mimosa  100837        5   \n",
            "91            tasty dish s   banana pudding in 2 minutes  286484        2   \n",
            "94                                    1 minute meatballs   11361       13   \n",
            "...                                                  ...     ...      ...   \n",
            "29873  zip and steam red potatoes with butter and garlic  304922       13   \n",
            "29874                          ziplock vanilla ice cream   74250       10   \n",
            "29905                      zucchini and corn with cheese  256177       15   \n",
            "29980               zucchini with jalapeno monterey jack  320622       10   \n",
            "29983                          zucchini with serrano ham  162411       15   \n",
            "\n",
            "       contributor_id   submitted  n_steps  \\\n",
            "28             213909  2008-05-06     11.0   \n",
            "60             213909  2008-05-16      NaN   \n",
            "90              58104  2004-09-29      4.0   \n",
            "91              47892  2008-02-13      NaN   \n",
            "94               4470  2001-09-03      NaN   \n",
            "...               ...         ...      ...   \n",
            "29873          724218  2008-05-27      9.0   \n",
            "29874           24386  2003-10-29      8.0   \n",
            "29905          305531  2007-09-29      4.0   \n",
            "29980          305531  2008-08-20      3.0   \n",
            "29983          152500  2006-03-31      6.0   \n",
            "\n",
            "                                             description  n_ingredients  \n",
            "28     this is a wonderful quick bread to make as an ...            5.0  \n",
            "60     this recipe is so simple and the flavors are s...            5.0  \n",
            "90     pineapple mimosa was changed to hawaiian sunri...            3.0  \n",
            "91     \"mmmm, i love bananas!\" a --tasty dish-- origi...            4.0  \n",
            "94     this is a real short cut for cooks in a hurry....            2.0  \n",
            "...                                                  ...            ...  \n",
            "29873  i haven't tried this yet, but i am going to so...            5.0  \n",
            "29874  a fun thing for kids to do. may want to use mi...            3.0  \n",
            "29905  from betty crocker fresh spring recipes. i lik...            5.0  \n",
            "29980                                  simple and yummy!            3.0  \n",
            "29983  this dish is from tim malzer, a german chef wh...            5.0  \n",
            "\n",
            "[2019 rows x 8 columns]\n"
          ]
        }
      ]
    },
    {
      "cell_type": "markdown",
      "source": [
        "2.1 Преобразуйте столбец submitted из таблицы recipes в формат времени. Модифицируйте решение задачи 1.1 так, чтобы считать столбец сразу в нужном формате."
      ],
      "metadata": {
        "id": "PkGlb4oqA0B2"
      }
    },
    {
      "cell_type": "code",
      "source": [
        "recipes['submitted'] = pd.to_datetime(recipes['submitted'])\n",
        "print(recipes['submitted'].dtype)"
      ],
      "metadata": {
        "colab": {
          "base_uri": "https://localhost:8080/"
        },
        "id": "uxdGOlS3A13Q",
        "outputId": "4b899abd-d2ea-4dc9-a8d4-83099f64b4f9"
      },
      "execution_count": 37,
      "outputs": [
        {
          "output_type": "stream",
          "name": "stdout",
          "text": [
            "datetime64[ns]\n"
          ]
        }
      ]
    },
    {
      "cell_type": "markdown",
      "source": [
        "2.2 Выведите информацию о рецептах, добавленных в датасет не позже 2010 года.\n",
        "\n"
      ],
      "metadata": {
        "id": "OLyTvu44BaNP"
      }
    },
    {
      "cell_type": "code",
      "source": [
        "print(recipes[recipes['submitted']>='01-01-2010'])"
      ],
      "metadata": {
        "colab": {
          "base_uri": "https://localhost:8080/"
        },
        "id": "mZde5DwwBbtq",
        "outputId": "821cd41f-ee6f-4b9c-8e97-92586fe10f65"
      },
      "execution_count": 38,
      "outputs": [
        {
          "output_type": "stream",
          "name": "stdout",
          "text": [
            "                                                    name      id  minutes  \\\n",
            "8                     1 in canada chocolate chip cookies  453467       45   \n",
            "13               blepandekager   danish   apple pancakes  503475       50   \n",
            "36                                 5 minute bread  pizza  487173       45   \n",
            "39                    bacon cheeseburger and fries  soup  447429       60   \n",
            "47                        full cool  macaroni and cheese  463219       25   \n",
            "...                                                  ...     ...      ...   \n",
            "29965                         zucchini sausage casserole  472482       80   \n",
            "29976                                      zucchini tots  505053       20   \n",
            "29992  zucchini  courgette soup  good for weight watc...  415406       45   \n",
            "29994                                     zuppa by luisa  464576       70   \n",
            "29998                                        zydeco soup  486161       60   \n",
            "\n",
            "       contributor_id  submitted  n_steps  \\\n",
            "8             1848091 2011-04-11     12.0   \n",
            "13             128473 2013-07-08     10.0   \n",
            "36            2406227 2012-09-19     30.0   \n",
            "39            1355934 2011-01-26      NaN   \n",
            "47             383346 2011-08-28      8.0   \n",
            "...               ...        ...      ...   \n",
            "29965          447199 2012-01-20     13.0   \n",
            "29976          798181 2013-07-31      NaN   \n",
            "29992          485109 2010-03-04      5.0   \n",
            "29994          226863 2011-09-20     14.0   \n",
            "29998          227978 2012-08-29      NaN   \n",
            "\n",
            "                                             description  n_ingredients  \\\n",
            "8      this is the recipe that we use at my school ca...           11.0   \n",
            "13     this recipe has been posted here for play in z...            NaN   \n",
            "36     my son recently showed me a recipe for artisan...            8.0   \n",
            "39     my son asked for cheeseburger soup, and having...           17.0   \n",
            "47     a recipe from ricardo that is popular with kid...           11.0   \n",
            "...                                                  ...            ...   \n",
            "29965  this was a real hit with my family! this recip...            NaN   \n",
            "29976  'the happy homemaker blog' shared this recipe ...            NaN   \n",
            "29992  this is a favourite winter warmer. by british ...            NaN   \n",
            "29994     this soup is a hearty meal!  from luisa musso.           17.0   \n",
            "29998  this is a delicious soup that i originally fou...            NaN   \n",
            "\n",
            "        subitted  \n",
            "8     2011-04-11  \n",
            "13    2013-07-08  \n",
            "36    2012-09-19  \n",
            "39    2011-01-26  \n",
            "47    2011-08-28  \n",
            "...          ...  \n",
            "29965 2012-01-20  \n",
            "29976 2013-07-31  \n",
            "29992 2010-03-04  \n",
            "29994 2011-09-20  \n",
            "29998 2012-08-29  \n",
            "\n",
            "[3877 rows x 9 columns]\n"
          ]
        }
      ]
    },
    {
      "cell_type": "markdown",
      "source": [
        "3.1 Добавьте в таблицу recipes столбец description_length, в котором хранится длина описания рецепта из столбца description."
      ],
      "metadata": {
        "id": "kWPSDaRaBs6E"
      }
    },
    {
      "cell_type": "code",
      "source": [
        "recipes['description_length'] = recipes['description'].str.len()\n",
        "print(recipes)"
      ],
      "metadata": {
        "colab": {
          "base_uri": "https://localhost:8080/"
        },
        "id": "Ae37Z0gDBwTN",
        "outputId": "29f2d33f-91f5-43af-c3db-937d7aadaca4"
      },
      "execution_count": 42,
      "outputs": [
        {
          "output_type": "stream",
          "name": "stdout",
          "text": [
            "                                               name      id  minutes  \\\n",
            "0             george s at the cove  black bean soup   44123       90   \n",
            "1                healthy for them  yogurt popsicles   67664       10   \n",
            "2                      i can t believe it s spinach   38798       30   \n",
            "3                              italian  gut busters   35173       45   \n",
            "4          love is in the air  beef fondue   sauces   84797       25   \n",
            "...                                             ...     ...      ...   \n",
            "29995  zurie s holey rustic olive and cheddar bread  267661       80   \n",
            "29996          zwetschgenkuchen  bavarian plum cake  386977      240   \n",
            "29997   zwiebelkuchen   southwest german onion cake  103312       75   \n",
            "29998                                   zydeco soup  486161       60   \n",
            "29999        cookies by design   cookies on a stick  298512       29   \n",
            "\n",
            "       contributor_id  submitted  n_steps  \\\n",
            "0               35193 2002-10-25      NaN   \n",
            "1               91970 2003-07-26      NaN   \n",
            "2                1533 2002-08-29      NaN   \n",
            "3               22724 2002-07-27      NaN   \n",
            "4                4470 2004-02-23      4.0   \n",
            "...               ...        ...      ...   \n",
            "29995          200862 2007-11-25     16.0   \n",
            "29996          177443 2009-08-24      NaN   \n",
            "29997          161745 2004-11-03      NaN   \n",
            "29998          227978 2012-08-29      NaN   \n",
            "29999          506822 2008-04-15      9.0   \n",
            "\n",
            "                                             description  n_ingredients  \\\n",
            "0      an original recipe created by chef scott meska...           18.0   \n",
            "1      my children and their friends ask for my homem...            NaN   \n",
            "2                these were so go, it surprised even me.            8.0   \n",
            "3      my sister-in-law made these for us at a family...            NaN   \n",
            "4      i think a fondue is a very romantic casual din...            NaN   \n",
            "...                                                  ...            ...   \n",
            "29995  this is based on a french recipe but i changed...           10.0   \n",
            "29996  this is a traditional fresh plum cake, thought...           11.0   \n",
            "29997  this is a traditional late summer early fall s...            NaN   \n",
            "29998  this is a delicious soup that i originally fou...            NaN   \n",
            "29999  i've heard of the 'cookies by design' company,...           10.0   \n",
            "\n",
            "        subitted  description_length  \n",
            "0     2002-10-25               330.0  \n",
            "1     2003-07-26               255.0  \n",
            "2     2002-08-29                39.0  \n",
            "3     2002-07-27               154.0  \n",
            "4     2004-02-23               587.0  \n",
            "...          ...                 ...  \n",
            "29995 2007-11-25               484.0  \n",
            "29996 2009-08-24               286.0  \n",
            "29997 2004-11-03               311.0  \n",
            "29998 2012-08-29               648.0  \n",
            "29999 2008-04-15               125.0  \n",
            "\n",
            "[30000 rows x 10 columns]\n"
          ]
        }
      ]
    },
    {
      "cell_type": "markdown",
      "source": [
        "3.2 Измените название каждого рецепта в таблице recipes таким образом, чтобы каждое слово в названии начиналось с прописной буквы."
      ],
      "metadata": {
        "id": "NBywkHtjCGj-"
      }
    },
    {
      "cell_type": "code",
      "source": [
        "recipes['name'] = recipes['name'].str.title()\n",
        "print(recipes)"
      ],
      "metadata": {
        "colab": {
          "base_uri": "https://localhost:8080/"
        },
        "id": "jaF_sJYNCIom",
        "outputId": "4b791849-f05f-49d5-eed9-2cfaa3f599f5"
      },
      "execution_count": 43,
      "outputs": [
        {
          "output_type": "stream",
          "name": "stdout",
          "text": [
            "                                               name      id  minutes  \\\n",
            "0             George S At The Cove  Black Bean Soup   44123       90   \n",
            "1                Healthy For Them  Yogurt Popsicles   67664       10   \n",
            "2                      I Can T Believe It S Spinach   38798       30   \n",
            "3                              Italian  Gut Busters   35173       45   \n",
            "4          Love Is In The Air  Beef Fondue   Sauces   84797       25   \n",
            "...                                             ...     ...      ...   \n",
            "29995  Zurie S Holey Rustic Olive And Cheddar Bread  267661       80   \n",
            "29996          Zwetschgenkuchen  Bavarian Plum Cake  386977      240   \n",
            "29997   Zwiebelkuchen   Southwest German Onion Cake  103312       75   \n",
            "29998                                   Zydeco Soup  486161       60   \n",
            "29999        Cookies By Design   Cookies On A Stick  298512       29   \n",
            "\n",
            "       contributor_id  submitted  n_steps  \\\n",
            "0               35193 2002-10-25      NaN   \n",
            "1               91970 2003-07-26      NaN   \n",
            "2                1533 2002-08-29      NaN   \n",
            "3               22724 2002-07-27      NaN   \n",
            "4                4470 2004-02-23      4.0   \n",
            "...               ...        ...      ...   \n",
            "29995          200862 2007-11-25     16.0   \n",
            "29996          177443 2009-08-24      NaN   \n",
            "29997          161745 2004-11-03      NaN   \n",
            "29998          227978 2012-08-29      NaN   \n",
            "29999          506822 2008-04-15      9.0   \n",
            "\n",
            "                                             description  n_ingredients  \\\n",
            "0      an original recipe created by chef scott meska...           18.0   \n",
            "1      my children and their friends ask for my homem...            NaN   \n",
            "2                these were so go, it surprised even me.            8.0   \n",
            "3      my sister-in-law made these for us at a family...            NaN   \n",
            "4      i think a fondue is a very romantic casual din...            NaN   \n",
            "...                                                  ...            ...   \n",
            "29995  this is based on a french recipe but i changed...           10.0   \n",
            "29996  this is a traditional fresh plum cake, thought...           11.0   \n",
            "29997  this is a traditional late summer early fall s...            NaN   \n",
            "29998  this is a delicious soup that i originally fou...            NaN   \n",
            "29999  i've heard of the 'cookies by design' company,...           10.0   \n",
            "\n",
            "        subitted  description_length  \n",
            "0     2002-10-25               330.0  \n",
            "1     2003-07-26               255.0  \n",
            "2     2002-08-29                39.0  \n",
            "3     2002-07-27               154.0  \n",
            "4     2004-02-23               587.0  \n",
            "...          ...                 ...  \n",
            "29995 2007-11-25               484.0  \n",
            "29996 2009-08-24               286.0  \n",
            "29997 2004-11-03               311.0  \n",
            "29998 2012-08-29               648.0  \n",
            "29999 2008-04-15               125.0  \n",
            "\n",
            "[30000 rows x 10 columns]\n"
          ]
        }
      ]
    },
    {
      "cell_type": "markdown",
      "source": [
        "3.3 Добавьте в таблицу recipes столбец name_word_count, в котором хранится количество слов из названии рецепта (считайте, что слова в названии разделяются только пробелами). Обратите внимание, что между словами может располагаться несколько пробелов подряд."
      ],
      "metadata": {
        "id": "vCFUXa6jCcBD"
      }
    },
    {
      "cell_type": "code",
      "source": [
        "recipes['name_word_count'] = recipes['name'].str.len()\n",
        "print(recipes)"
      ],
      "metadata": {
        "colab": {
          "base_uri": "https://localhost:8080/"
        },
        "id": "wNdhs5jDCdqv",
        "outputId": "c7e0939c-e049-4368-a754-c5932560ca22"
      },
      "execution_count": 44,
      "outputs": [
        {
          "output_type": "stream",
          "name": "stdout",
          "text": [
            "                                               name      id  minutes  \\\n",
            "0             George S At The Cove  Black Bean Soup   44123       90   \n",
            "1                Healthy For Them  Yogurt Popsicles   67664       10   \n",
            "2                      I Can T Believe It S Spinach   38798       30   \n",
            "3                              Italian  Gut Busters   35173       45   \n",
            "4          Love Is In The Air  Beef Fondue   Sauces   84797       25   \n",
            "...                                             ...     ...      ...   \n",
            "29995  Zurie S Holey Rustic Olive And Cheddar Bread  267661       80   \n",
            "29996          Zwetschgenkuchen  Bavarian Plum Cake  386977      240   \n",
            "29997   Zwiebelkuchen   Southwest German Onion Cake  103312       75   \n",
            "29998                                   Zydeco Soup  486161       60   \n",
            "29999        Cookies By Design   Cookies On A Stick  298512       29   \n",
            "\n",
            "       contributor_id  submitted  n_steps  \\\n",
            "0               35193 2002-10-25      NaN   \n",
            "1               91970 2003-07-26      NaN   \n",
            "2                1533 2002-08-29      NaN   \n",
            "3               22724 2002-07-27      NaN   \n",
            "4                4470 2004-02-23      4.0   \n",
            "...               ...        ...      ...   \n",
            "29995          200862 2007-11-25     16.0   \n",
            "29996          177443 2009-08-24      NaN   \n",
            "29997          161745 2004-11-03      NaN   \n",
            "29998          227978 2012-08-29      NaN   \n",
            "29999          506822 2008-04-15      9.0   \n",
            "\n",
            "                                             description  n_ingredients  \\\n",
            "0      an original recipe created by chef scott meska...           18.0   \n",
            "1      my children and their friends ask for my homem...            NaN   \n",
            "2                these were so go, it surprised even me.            8.0   \n",
            "3      my sister-in-law made these for us at a family...            NaN   \n",
            "4      i think a fondue is a very romantic casual din...            NaN   \n",
            "...                                                  ...            ...   \n",
            "29995  this is based on a french recipe but i changed...           10.0   \n",
            "29996  this is a traditional fresh plum cake, thought...           11.0   \n",
            "29997  this is a traditional late summer early fall s...            NaN   \n",
            "29998  this is a delicious soup that i originally fou...            NaN   \n",
            "29999  i've heard of the 'cookies by design' company,...           10.0   \n",
            "\n",
            "        subitted  description_length  name_word_count  \n",
            "0     2002-10-25               330.0               37  \n",
            "1     2003-07-26               255.0               34  \n",
            "2     2002-08-29                39.0               28  \n",
            "3     2002-07-27               154.0               20  \n",
            "4     2004-02-23               587.0               40  \n",
            "...          ...                 ...              ...  \n",
            "29995 2007-11-25               484.0               44  \n",
            "29996 2009-08-24               286.0               36  \n",
            "29997 2004-11-03               311.0               43  \n",
            "29998 2012-08-29               648.0               11  \n",
            "29999 2008-04-15               125.0               38  \n",
            "\n",
            "[30000 rows x 11 columns]\n"
          ]
        }
      ]
    },
    {
      "cell_type": "markdown",
      "source": [
        "4.1 Посчитайте количество рецептов, представленных каждым из участников (contributor_id). Какой участник добавил максимальное кол-во рецептов?"
      ],
      "metadata": {
        "id": "JwePELTBCt4c"
      }
    },
    {
      "cell_type": "code",
      "source": [
        "r_counts = recipes['contributor_id'].value_counts()\n",
        "print(r_counts)\n",
        "print(\"Максимальное количество рецептов у участника: \",r_counts.idxmax())"
      ],
      "metadata": {
        "colab": {
          "base_uri": "https://localhost:8080/"
        },
        "id": "bWnTcMsCCvy3",
        "outputId": "941cdff6-3571-4b67-c241-ad68f3855e73"
      },
      "execution_count": 49,
      "outputs": [
        {
          "output_type": "stream",
          "name": "stdout",
          "text": [
            "89831      421\n",
            "37449      346\n",
            "37779      345\n",
            "1533       186\n",
            "169430     183\n",
            "          ... \n",
            "1061628      1\n",
            "1076183      1\n",
            "429061       1\n",
            "64032        1\n",
            "186118       1\n",
            "Name: contributor_id, Length: 8404, dtype: int64\n",
            "Максимальное количество рецептов у участника:  89831\n"
          ]
        }
      ]
    },
    {
      "cell_type": "markdown",
      "source": [
        "4.2 Посчитайте средний рейтинг к каждому из рецептов. Для скольких рецептов отсутствуют отзывы? Обратите внимание, что отзыв с нулевым рейтингом или не заполненным текстовым описанием не считается отсутствующим."
      ],
      "metadata": {
        "id": "BpWHrop5D3OL"
      }
    },
    {
      "cell_type": "code",
      "source": [
        "reviews = pd.read_csv('reviews_sample.csv')\n",
        "rat = reviews[['recipe_id','rating']].groupby('recipe_id').mean()\n",
        "print(rat)\n",
        "print('Количество рецептов с отсутствующими отзывами: ', reviews.shape[0] - rat.shape[0])"
      ],
      "metadata": {
        "colab": {
          "base_uri": "https://localhost:8080/"
        },
        "id": "YQfiJl78D56O",
        "outputId": "020b4ec0-993b-427e-955a-db7e4618ede8"
      },
      "execution_count": 52,
      "outputs": [
        {
          "output_type": "stream",
          "name": "stdout",
          "text": [
            "             rating\n",
            "recipe_id          \n",
            "48         1.000000\n",
            "55         4.750000\n",
            "66         4.944444\n",
            "91         4.750000\n",
            "94         5.000000\n",
            "...             ...\n",
            "536547     5.000000\n",
            "536610     0.000000\n",
            "536728     4.000000\n",
            "536729     4.750000\n",
            "536747     0.000000\n",
            "\n",
            "[28100 rows x 1 columns]\n",
            "Количество рецептов с отсутствующими отзывами:  98596\n"
          ]
        }
      ]
    },
    {
      "cell_type": "markdown",
      "source": [
        "4.3 Посчитайте количество рецептов с разбивкой по годам создания."
      ],
      "metadata": {
        "id": "szFEQ7FdFBLb"
      }
    },
    {
      "cell_type": "code",
      "source": [
        "print(recipes.groupby(pd.Grouper(key='submitted',freq='Y')).size())"
      ],
      "metadata": {
        "colab": {
          "base_uri": "https://localhost:8080/"
        },
        "id": "jLsV-WpEFCvA",
        "outputId": "fb4fc6d1-dd60-4140-b765-8837a181722d"
      },
      "execution_count": 53,
      "outputs": [
        {
          "output_type": "stream",
          "name": "stdout",
          "text": [
            "submitted\n",
            "1999-12-31     275\n",
            "2000-12-31     104\n",
            "2001-12-31     589\n",
            "2002-12-31    2644\n",
            "2003-12-31    2334\n",
            "2004-12-31    2153\n",
            "2005-12-31    3130\n",
            "2006-12-31    3473\n",
            "2007-12-31    4429\n",
            "2008-12-31    4029\n",
            "2009-12-31    2963\n",
            "2010-12-31    1538\n",
            "2011-12-31     922\n",
            "2012-12-31     659\n",
            "2013-12-31     490\n",
            "2014-12-31     139\n",
            "2015-12-31      42\n",
            "2016-12-31      24\n",
            "2017-12-31      39\n",
            "2018-12-31      24\n",
            "Freq: A-DEC, dtype: int64\n"
          ]
        }
      ]
    },
    {
      "cell_type": "markdown",
      "source": [
        "5.1 При помощи объединения таблиц, создайте DataFrame, состоящий из четырех столбцов: id, name, user_id, rating. Рецепты, на которые не оставлен ни один отзыв, должны отсутствовать в полученной таблице. Подтвердите правильность работы вашего кода, выбрав рецепт, не имеющий отзывов, и попытавшись найти строку, соответствующую этому рецепту, в полученном DataFrame."
      ],
      "metadata": {
        "id": "xQuWWGLcFcOY"
      }
    },
    {
      "cell_type": "code",
      "source": [
        "t5_1 = pd.merge(recipes[['id','name']],reviews[['recipe_id','user_id','rating']],left_on='id',right_on='recipe_id',how='inner')\n",
        "del t5_1['recipe_id']\n",
        "print(t5_1)"
      ],
      "metadata": {
        "colab": {
          "base_uri": "https://localhost:8080/"
        },
        "id": "dA0FXQ2XFeRQ",
        "outputId": "838fa759-93c5-4a63-9c21-48a5171c5eaf"
      },
      "execution_count": 55,
      "outputs": [
        {
          "output_type": "stream",
          "name": "stdout",
          "text": [
            "            id                                    name  user_id  rating\n",
            "0        44123   George S At The Cove  Black Bean Soup   743566       5\n",
            "1        44123   George S At The Cove  Black Bean Soup    76503       5\n",
            "2        44123   George S At The Cove  Black Bean Soup    34206       5\n",
            "3        67664      Healthy For Them  Yogurt Popsicles   494084       5\n",
            "4        67664      Healthy For Them  Yogurt Popsicles   303445       5\n",
            "...        ...                                     ...      ...     ...\n",
            "126691  486161                             Zydeco Soup   305531       5\n",
            "126692  486161                             Zydeco Soup  1271506       5\n",
            "126693  486161                             Zydeco Soup   724631       5\n",
            "126694  486161                             Zydeco Soup   133174       5\n",
            "126695  298512  Cookies By Design   Cookies On A Stick   804234       1\n",
            "\n",
            "[126696 rows x 4 columns]\n"
          ]
        }
      ]
    },
    {
      "cell_type": "code",
      "source": [
        "print(t5_1.loc[t5_1['id']==10334])"
      ],
      "metadata": {
        "colab": {
          "base_uri": "https://localhost:8080/"
        },
        "id": "Ed1UYm0aKAFh",
        "outputId": "05947dcc-c3cf-483d-938e-9d43b9c1c492"
      },
      "execution_count": 56,
      "outputs": [
        {
          "output_type": "stream",
          "name": "stdout",
          "text": [
            "Empty DataFrame\n",
            "Columns: [id, name, user_id, rating]\n",
            "Index: []\n"
          ]
        }
      ]
    },
    {
      "cell_type": "markdown",
      "source": [
        "5.2 При помощи объединения таблиц и группировок, создайте DataFrame, состоящий из трех столбцов: recipe_id, name, review_count, где столбец review_count содержит кол-во отзывов, оставленных на рецепт recipe_id. У рецептов, на которые не оставлен ни один отзыв, в столбце review_count должен быть указан 0. Подтвердите правильность работы вашего кода, выбрав рецепт, не имеющий отзывов, и найдя строку, соответствующую этому рецепту, в полученном DataFrame."
      ],
      "metadata": {
        "id": "nZKaZGNcKJei"
      }
    },
    {
      "cell_type": "code",
      "source": [
        "t5_2 = recipes.merge(reviews,left_on='id',right_on='recipe_id',how='left')\n",
        "t5_2 = t5_2[['recipe_id','name']]\n",
        "print(t5_2.groupby(['recipe_id','name']).size().to_frame(name='review_count'))"
      ],
      "metadata": {
        "colab": {
          "base_uri": "https://localhost:8080/"
        },
        "id": "v5fqHpgKKK6t",
        "outputId": "3660939e-9956-4e2f-b6a5-784f6c95957b"
      },
      "execution_count": 58,
      "outputs": [
        {
          "output_type": "stream",
          "name": "stdout",
          "text": [
            "                                                      review_count\n",
            "recipe_id name                                                    \n",
            "48.0      Boston Cream Pie                                       2\n",
            "55.0      Betty Crocker S Southwestern Guacamole Dip             4\n",
            "66.0      Black Coffee Barbecue Sauce                           18\n",
            "91.0      Brown Rice And Vegetable Pilaf                         4\n",
            "94.0      Blueberry Buttertarts                                  4\n",
            "...                                                            ...\n",
            "536547.0  Cauliflower Ceviche                                    1\n",
            "536610.0  Miracle Home Made Puff Pastry                          1\n",
            "536728.0  Gluten Free  Vegemite                                  1\n",
            "536729.0  Creole Watermelon Feta Salad                           4\n",
            "536747.0  Lemon Pom Pom Cake                                     4\n",
            "\n",
            "[28100 rows x 1 columns]\n"
          ]
        }
      ]
    },
    {
      "cell_type": "markdown",
      "source": [
        "6.1 Отсортируйте таблицу в порядке убывания величины столбца name_word_count и сохраните результаты выполнения заданий 3.1-3.3 в csv файл."
      ],
      "metadata": {
        "id": "m9hc_eXRMnal"
      }
    },
    {
      "cell_type": "code",
      "source": [
        "r_sorted = recipes.sort_values('name_word_count',ascending=False)\n",
        "print(r_sorted.head())"
      ],
      "metadata": {
        "colab": {
          "base_uri": "https://localhost:8080/"
        },
        "id": "iK3YykGcMo9N",
        "outputId": "46436f7d-75f5-470e-833b-6762a386d816"
      },
      "execution_count": 65,
      "outputs": [
        {
          "output_type": "stream",
          "name": "stdout",
          "text": [
            "                                                    name     id  minutes  \\\n",
            "22778  Roasted Garlic Stuffed Steak With Garlic Mashe...  38409       85   \n",
            "14735  Italian Sausages And Beans With Sage  Salsicci...  38761       70   \n",
            "13578  Hefty Defty Roly Poly Weebles Wobbles But They...  37673       52   \n",
            "18830  Norwegian Fried Venison Cutlet With Currant Sa...  80199     1460   \n",
            "3907   Brouillade Of Mushrooms  Or The Best Scrambled...  38270       35   \n",
            "\n",
            "       contributor_id  submitted  n_steps  \\\n",
            "22778           53227 2002-08-26      NaN   \n",
            "14735           30893 2002-08-28     10.0   \n",
            "13578           23302 2002-08-19     10.0   \n",
            "18830          112818 2004-01-05     17.0   \n",
            "3907            27678 2002-08-26      NaN   \n",
            "\n",
            "                                             description  n_ingredients  \\\n",
            "22778  this is for all those garlic lovers out there ...            8.0   \n",
            "14735  this is from a recent foodday section of the o...            NaN   \n",
            "13578                             eat 'em or freeze 'em.           13.0   \n",
            "18830  this is one of my very favorites! if you don't...           20.0   \n",
            "3907   i love this recipe. the title makes it sound s...            9.0   \n",
            "\n",
            "        subitted  description_length  name_word_count  \n",
            "22778 2002-08-26                88.0               83  \n",
            "14735 2002-08-28                98.0               74  \n",
            "13578 2002-08-19                22.0               71  \n",
            "18830 2004-01-05               249.0               71  \n",
            "3907  2002-08-26               234.0               67  \n"
          ]
        }
      ]
    },
    {
      "cell_type": "markdown",
      "source": [
        "6.2 Воспользовавшись pd.ExcelWriter, cохраните результаты 5.1 и 5.2 в файл: на лист с названием Рецепты с оценками сохраните результаты выполнения 5.1; на лист с названием Количество отзывов по рецептам сохраните результаты выполнения 5.2."
      ],
      "metadata": {
        "id": "yHEOdvUmM-AP"
      }
    },
    {
      "cell_type": "code",
      "source": [
        "with pd.ExcelWriter('6.2.xlsx') as writer:\n",
        "  t5_1.to_excel(writer,sheet_name='Рецепты с оценкой',index=False)\n",
        "t5_2.to_excel(writer,sheet_name='Количество отзывов по рецептам',index=False)"
      ],
      "metadata": {
        "id": "ck1ObV3mM9b3"
      },
      "execution_count": 66,
      "outputs": []
    }
  ]
}