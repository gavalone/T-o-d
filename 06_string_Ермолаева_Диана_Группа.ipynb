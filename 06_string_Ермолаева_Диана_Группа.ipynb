{
  "cells": [
    {
      "cell_type": "markdown",
      "metadata": {
        "id": "rXNmiauzScpl"
      },
      "source": [
        "# Работа со строковыми значениями"
      ]
    },
    {
      "cell_type": "markdown",
      "metadata": {
        "id": "34dzvyJLScpp"
      },
      "source": [
        "__Автор задач: Блохин Н.В. (NVBlokhin@fa.ru)__\n",
        "\n",
        "Материалы:\n",
        "* Макрушин С.В. Лекция \"Работа со строковыми значениям\"\n",
        "* https://pyformat.info/\n",
        "* https://docs.python.org/3/library/re.html\n",
        "    * https://docs.python.org/3/library/re.html#flags\n",
        "    * https://docs.python.org/3/library/re.html#functions\n",
        "* https://pythonru.com/primery/primery-primeneniya-regulyarnyh-vyrazheniy-v-python\n",
        "* https://kanoki.org/2019/11/12/how-to-use-regex-in-pandas/\n",
        "* https://realpython.com/nltk-nlp-python/"
      ]
    },
    {
      "cell_type": "markdown",
      "metadata": {
        "id": "utvsNR5zScpq"
      },
      "source": [
        "## Задачи для совместного разбора"
      ]
    },
    {
      "cell_type": "markdown",
      "metadata": {
        "id": "C9Pq_2Z2Scpr"
      },
      "source": [
        "1. Вывести на экран данные из словаря `obj` построчно в виде `k = v`, задав формат таким образом, чтобы знак равенства оказался на одной и той же позиции во всех строках. Строковые литералы обернуть в кавычки."
      ]
    },
    {
      "cell_type": "code",
      "execution_count": null,
      "metadata": {
        "id": "hP3X2g4JScpr"
      },
      "outputs": [],
      "source": [
        "obj = {\n",
        "    \"home_page\": \"https://github.com/pypa/sampleproject\",\n",
        "    \"keywords\": \"sample setuptools development\",\n",
        "    \"license\": \"MIT\",\n",
        "}"
      ]
    },
    {
      "cell_type": "markdown",
      "metadata": {
        "id": "i5Vacq6tScps"
      },
      "source": [
        "2. Написать регулярное выражение,которое позволит найти номера групп студентов."
      ]
    },
    {
      "cell_type": "code",
      "execution_count": null,
      "metadata": {
        "id": "aDVrPDnXScpt",
        "outputId": "81f87cd5-030c-4c7a-86cf-10e4f9e37acc"
      },
      "outputs": [
        {
          "data": {
            "text/plain": [
              "0    Евгения гр.ПМ19-1\n",
              "1         Илья пм 20-4\n",
              "2            Анна 20-3\n",
              "dtype: object"
            ]
          },
          "execution_count": 4,
          "metadata": {},
          "output_type": "execute_result"
        }
      ],
      "source": [
        "obj = pd.Series([\"Евгения гр.ПМ19-1\", \"Илья пм 20-4\", \"Анна 20-3\"])\n",
        "obj"
      ]
    },
    {
      "cell_type": "markdown",
      "metadata": {
        "id": "U1s95wvpScpu"
      },
      "source": [
        "3. Разбейте текст формулировки задачи 2 на слова."
      ]
    },
    {
      "cell_type": "markdown",
      "metadata": {
        "id": "dmsHN16oScpv"
      },
      "source": [
        "## Лабораторная работа 6"
      ]
    },
    {
      "cell_type": "markdown",
      "metadata": {
        "id": "kl3qIQtKScpv"
      },
      "source": [
        "### Форматирование строк"
      ]
    },
    {
      "cell_type": "code",
      "source": [
        "from prettytable import PrettyTable  \n",
        "import pandas as pd\n",
        "import random as rn\n",
        "from bs4 import BeautifulSoup as bs\n",
        "import re\n",
        "import nltk\n",
        "from nltk.tokenize.toktok import ToktokTokenizer\n",
        "from nltk.tokenize import sent_tokenize\n",
        "import sys\n",
        "from nltk import pos_tag\n",
        "from nltk import word_tokenize\n",
        "import nltk.data\n"
      ],
      "metadata": {
        "id": "GxoBl8M7dL_z"
      },
      "execution_count": null,
      "outputs": []
    },
    {
      "cell_type": "markdown",
      "metadata": {
        "id": "ZbnLIpkZScpv"
      },
      "source": [
        "1\\. Загрузите данные из файла `recipes_sample.csv` (__ЛР2__) в виде `pd.DataFrame` `recipes` При помощи форматирования строк выведите информацию об id рецепта и времени выполнения 5 случайных рецептов в виде таблицы следующего вида:\n",
        "\n",
        "    \n",
        "    |      id      |  minutes  |\n",
        "    |--------------------------|\n",
        "    |    61178     |    65     |\n",
        "    |    202352    |    80     |\n",
        "    |    364322    |    150    |\n",
        "    |    26177     |    20     |\n",
        "    |    224785    |    35     |\n",
        "    \n",
        "Обратите внимание, что ширина столбцов заранее неизвестна и должна рассчитываться динамически, в зависимости от тех данных, которые были выбраны. "
      ]
    },
    {
      "cell_type": "code",
      "source": [
        "recipes = pd.read_csv('recipes_sample.csv')\n",
        "titles = ['   id   ',' minutes ']\n",
        "print(f'|{str(titles[0])}|{str(titles[1])}|')\n",
        "print(f'--------------------')\n",
        "for j in range(5):\n",
        "  print(f\"|{recipes['id'][j]: ^ 7}|{recipes['minutes'][j]: ^ 10}|\")"
      ],
      "metadata": {
        "colab": {
          "base_uri": "https://localhost:8080/"
        },
        "id": "-BAeILhXS2fi",
        "outputId": "eb369bf5-f810-4475-c50d-a4d2901f867f"
      },
      "execution_count": null,
      "outputs": [
        {
          "output_type": "stream",
          "name": "stdout",
          "text": [
            "|   id   | minutes |\n",
            "--------------------\n",
            "| 44123 |    90    |\n",
            "| 67664 |    10    |\n",
            "| 38798 |    30    |\n",
            "| 35173 |    45    |\n",
            "| 84797 |    25    |\n"
          ]
        }
      ]
    },
    {
      "cell_type": "markdown",
      "metadata": {
        "id": "x3symGtSScpw"
      },
      "source": [
        "2\\. Напишите функцию `show_info`, которая по данным о рецепте создает строку (в смысле объекта python) с описанием следующего вида:\n",
        "\n",
        "```\n",
        "\"Название Из Нескольких Слов\"\n",
        "\n",
        "1. Шаг 1\n",
        "2. Шаг 2\n",
        "----------\n",
        "Автор: contributor_id\n",
        "Среднее время приготовления: minutes минут\n",
        "```\n",
        "\n",
        "    \n",
        "Данные для создания строки получите из файлов `recipes_sample.csv` (__ЛР2__) и `steps_sample.xml` (__ЛР3__). \n",
        "Вызовите данную функцию для рецепта с id `170895` и выведите (через `print`) полученную строку на экран."
      ]
    },
    {
      "cell_type": "code",
      "source": [
        "with open('steps_sample.xml', 'r') as f:\n",
        "    files = bs(f, 'xml')\n",
        "steps_sample = {}\n",
        "for recipe in files.find_all('recipe'):\n",
        "    steps_sample[recipe.id.string] = list()\n",
        "    for step in recipe.find_all('step'):\n",
        "      steps_sample[recipe.id.string] = list()\n",
        "\n",
        "def show_info(recipe_id):\n",
        "    a = recipes[recipes.id == recipe_id]\n",
        "    inf = f'\"{a.name.values[0]}\"'.title()\n",
        "    inf += '\\n\\n'\n",
        "    steps = steps_sample[str(recipe_id)]\n",
        "    for i in range(len(steps)):\n",
        "        inf += f'{i+1}. ' + f'{steps[i]}\\n'.capitalize()\n",
        "    inf += '-'*10 + '\\n'\n",
        "    inf += f'Автор: {a.contributor_id.values[0]}\\n'\n",
        "    inf += f'Среднее время приготовления: {a.minutes.values[0]} минут'\n",
        "    \n",
        "    return inf"
      ],
      "metadata": {
        "id": "y4W_trSVV2ZQ"
      },
      "execution_count": null,
      "outputs": []
    },
    {
      "cell_type": "code",
      "source": [
        "print(show_info(170895))"
      ],
      "metadata": {
        "colab": {
          "base_uri": "https://localhost:8080/"
        },
        "id": "9uSZm-PiZarf",
        "outputId": "179571a5-eec8-41f3-c925-e7eec1de6f32"
      },
      "execution_count": null,
      "outputs": [
        {
          "output_type": "stream",
          "name": "stdout",
          "text": [
            "\"Leeks And Parsnips  Sauteed Or Creamed\"\n",
            "\n",
            "----------\n",
            "Автор: 8377\n",
            "Среднее время приготовления: 27 минут\n"
          ]
        }
      ]
    },
    {
      "cell_type": "markdown",
      "metadata": {
        "id": "jBFImNYaScpx"
      },
      "source": [
        "## Работа с регулярными выражениями"
      ]
    },
    {
      "cell_type": "markdown",
      "metadata": {
        "id": "pttCca6aScpy"
      },
      "source": [
        "3\\. Напишите регулярное выражение, которое ищет следующий паттерн в строке: число (1 цифра или более), затем пробел, затем слова: hour или hours или minute или minutes. Произведите поиск по данному регулярному выражению в каждом шаге рецепта с id 25082. Выведите на экран все непустые результаты, найденные по данному шаблону."
      ]
    },
    {
      "cell_type": "code",
      "source": [
        "with open('steps_sample.xml', 'r') as f:\n",
        "    f1 = f.readlines()\n",
        "    c = ''.join(c)\n",
        "    bs_l = bs(c,'xml')\n",
        "for i in bsc.find_all('recipe'):\n",
        "\tif i.id.text == '25082':\n",
        "\t\tlst = list(i.find_all('step'))\n",
        "for j in lst:\n",
        "\tif (re.findall(r'/d hour|hours|minute|minutes', str(j))):\n",
        "\t\tprint(str(j), end='\\n')"
      ],
      "metadata": {
        "colab": {
          "base_uri": "https://localhost:8080/"
        },
        "id": "qaslo5_XeEwr",
        "outputId": "133e0724-6e7d-4b95-d232-789507e236bd"
      },
      "execution_count": null,
      "outputs": [
        {
          "output_type": "stream",
          "name": "stdout",
          "text": [
            "<step has_minutes=\"1\">turn out onto a lightly floured board and knead for about 20 minutes , adding flour as nescessary to keep the dough from sticking to the board</step>\n",
            "<step has_minutes=\"1\">when it has been sufficiently kneaded , cover it with a damp cloth for about 10 minutes and wash and grease the bowl lightly</step>\n",
            "<step has_hours=\"1\">let the dough rise until it springs back when you stick your finger in it , and it is about twice the size as it was before (this takes about 2 hours</step>\n",
            "<step has_minutes=\"1\">when the dough has risen twice , deflate it again and cover it with the damp cloth again for about 10 minutes , then divide it into and shape it into loaves , buns , etc</step>\n",
            "<step has_hours=\"1\">let the shaped dough rise on a baking sheet or in a loaf-pan for about an hour maybe- it will rise a bit more in the oven</step>\n",
            "<step has_minutes=\"1\">bake at 400 for 20 minutes , and then turn the oven down to 350 and bake for 20-30 minutes longer , until the loaf is a lovely brown and sounds hollow when you thump it on the bottom</step>\n"
          ]
        }
      ]
    },
    {
      "cell_type": "markdown",
      "metadata": {
        "id": "L-kZxn9sScpy"
      },
      "source": [
        "4\\. Напишите регулярное выражение, которое ищет шаблон вида \"this..., but\" _в начале строки_ . Между словом \"this\" и частью \", but\" может находиться произвольное число букв, цифр, знаков подчеркивания и пробелов. Никаких других символов вместо многоточия быть не может. Пробел между запятой и словом \"but\" может присутствовать или отсутствовать.\n",
        "\n",
        "Используя строковые методы `pd.Series`, выясните, для каких рецептов данный шаблон содержится в тексте описания. Выведите на экран количество таких рецептов и 3 примера подходящих описаний (текст описания должен быть виден на экране полностью)."
      ]
    },
    {
      "cell_type": "code",
      "source": [
        "finding = re.compile(r'^this(?:[\\w]|[ ])*,[ ]?but')\n",
        "x = []\n",
        "k = 0\n",
        "for i in recipes.description.values:\n",
        "    result = finding.match(str(i))\n",
        "    if result:\n",
        "        k+=1\n",
        "        x.append(i)\n",
        "for j in rn.sample(a,3):\n",
        "    print(i, end=f'\\n{'-'*127}\\n')\n",
        "print(k)"
      ],
      "metadata": {
        "colab": {
          "base_uri": "https://localhost:8080/"
        },
        "id": "WzqaZmZLcxHB",
        "outputId": "667aa415-4737-4925-9ffd-4835e723521d"
      },
      "execution_count": null,
      "outputs": [
        {
          "output_type": "stream",
          "name": "stdout",
          "text": [
            "i've heard of the 'cookies by design' company, but have never tried their cookies. this recipe is supposed to be like theirs.\n",
            "-------------------------------------------------------------------------------------------------------------------------------\n",
            "i've heard of the 'cookies by design' company, but have never tried their cookies. this recipe is supposed to be like theirs.\n",
            "-------------------------------------------------------------------------------------------------------------------------------\n",
            "i've heard of the 'cookies by design' company, but have never tried their cookies. this recipe is supposed to be like theirs.\n",
            "-------------------------------------------------------------------------------------------------------------------------------\n",
            "134\n"
          ]
        }
      ]
    },
    {
      "cell_type": "markdown",
      "metadata": {
        "id": "JWL4nJLVScpy"
      },
      "source": [
        "5\\. В текстах шагов рецептов обыкновенные дроби имеют вид \"a / b\". Используя регулярные выражения, уберите в тексте шагов рецепта с id 72367 пробелы до и после символа дроби. Выведите на экран шаги этого рецепта после их изменения."
      ]
    },
    {
      "cell_type": "code",
      "source": [
        "for i in bs_l.find_all('recipe'):\n",
        "  if i.id.text == '72367':\n",
        "    lst = list(rpe.find_all('step'))\n",
        "for j in lst:\n",
        "  print(re.sub(r' \\/ ', '/', str(j)))"
      ],
      "metadata": {
        "colab": {
          "base_uri": "https://localhost:8080/"
        },
        "id": "1BmArWxqd4I1",
        "outputId": "e601c8f7-5972-44a3-cd45-bc0241df5757"
      },
      "execution_count": null,
      "outputs": [
        {
          "output_type": "stream",
          "name": "stdout",
          "text": [
            "<step>place melted butter in a large mixing bowl and add each remaining ingredient as listed , beating well after each addition to achieve a smooth dough</step>\n",
            "<step has_minutes=\"1\">let dough stand uncovered 10 minutes</step>\n",
            "<step>make golf-ball-sized shapes of the dough and insert a flat , wooden popsicle stick into one side of each ball</step>\n",
            "<step>carefully flatten each ball of dough to a 1/2 inch thick patty</step>\n",
            "<step>place 3 inches apart on greased baking sheets</step>\n",
            "<step has_minutes=\"1\">bake at 400f for 6-8 minutes or til just browned around the edges , but still white on tops of cookies</step>\n",
            "<step>remove from the oven and smear the top of each cookie generously with heated , canned , ready-to-spread frosting</step>\n",
            "<step>frostings may be tinted with few drops food coloring once it has been heated</step>\n",
            "<step has_minutes=\"1\">let cookies cool on baking sheet 10 minutes before carefully removing to paper towels</step>\n"
          ]
        }
      ]
    },
    {
      "cell_type": "markdown",
      "metadata": {
        "id": "fTQMqNZZScpz"
      },
      "source": [
        "### Сегментация текста"
      ]
    },
    {
      "cell_type": "markdown",
      "metadata": {
        "id": "s9PDG3dGScpz"
      },
      "source": [
        "6\\. Разбейте тексты шагов рецептов на слова при помощи пакета `nltk`. Посчитайте и выведите на экран кол-во уникальных слов среди всех рецептов. Словом называется любая последовательность алфавитных символов (для проверки можно воспользоваться `str.isalpha`). При подсчете количества уникальных слов не учитывайте регистр."
      ]
    },
    {
      "cell_type": "code",
      "source": [
        "nltk.download('punkt')\n",
        "\n",
        "toktok = ToktokTokenizer()\n",
        "unique = {}\n",
        "alst = []\n",
        "\n",
        "for key, value in steps_sample.items():\n",
        "    alst += value\n",
        "for i in alst:\n",
        "    temp = toktok.tokenize(i)\n",
        "    for j in temp:\n",
        "        if j.isalpha():\n",
        "            unique.append(j.lower())\n",
        "\n",
        "alst"
      ],
      "metadata": {
        "colab": {
          "base_uri": "https://localhost:8080/",
          "height": 269
        },
        "id": "pWsqq9Ywf2qx",
        "outputId": "25087af7-f071-4e60-99ea-176bab1fb598"
      },
      "execution_count": null,
      "outputs": [
        {
          "output_type": "stream",
          "name": "stderr",
          "text": [
            "[nltk_data] Downloading package punkt to /root/nltk_data...\n",
            "[nltk_data]   Package punkt is already up-to-date!\n"
          ]
        },
        {
          "output_type": "error",
          "ename": "AttributeError",
          "evalue": "ignored",
          "traceback": [
            "\u001b[0;31m---------------------------------------------------------------------------\u001b[0m",
            "\u001b[0;31mAttributeError\u001b[0m                            Traceback (most recent call last)",
            "\u001b[0;32m<ipython-input-28-fcd7a5e314a4>\u001b[0m in \u001b[0;36m<cell line: 7>\u001b[0;34m()\u001b[0m\n\u001b[1;32m      5\u001b[0m \u001b[0malst\u001b[0m \u001b[0;34m=\u001b[0m \u001b[0;34m[\u001b[0m\u001b[0;34m]\u001b[0m\u001b[0;34m\u001b[0m\u001b[0;34m\u001b[0m\u001b[0m\n\u001b[1;32m      6\u001b[0m \u001b[0;34m\u001b[0m\u001b[0m\n\u001b[0;32m----> 7\u001b[0;31m \u001b[0;32mfor\u001b[0m \u001b[0mkey\u001b[0m\u001b[0;34m,\u001b[0m \u001b[0mvalue\u001b[0m \u001b[0;32min\u001b[0m \u001b[0mf\u001b[0m\u001b[0;34m.\u001b[0m\u001b[0mitems\u001b[0m\u001b[0;34m(\u001b[0m\u001b[0;34m)\u001b[0m\u001b[0;34m:\u001b[0m\u001b[0;34m\u001b[0m\u001b[0;34m\u001b[0m\u001b[0m\n\u001b[0m\u001b[1;32m      8\u001b[0m     \u001b[0malst\u001b[0m \u001b[0;34m+=\u001b[0m \u001b[0mvalue\u001b[0m\u001b[0;34m\u001b[0m\u001b[0;34m\u001b[0m\u001b[0m\n\u001b[1;32m      9\u001b[0m \u001b[0;32mfor\u001b[0m \u001b[0mi\u001b[0m \u001b[0;32min\u001b[0m \u001b[0malst\u001b[0m\u001b[0;34m:\u001b[0m\u001b[0;34m\u001b[0m\u001b[0;34m\u001b[0m\u001b[0m\n",
            "\u001b[0;31mAttributeError\u001b[0m: '_io.TextIOWrapper' object has no attribute 'items'"
          ]
        }
      ]
    },
    {
      "cell_type": "markdown",
      "metadata": {
        "id": "M7a0IK78Scpz"
      },
      "source": [
        "7\\. Разбейте описания рецептов из `recipes` на предложения при помощи пакета `nltk`. Найдите 5 самых длинных описаний (по количеству _предложений_) рецептов в датасете и выведите строки фрейма, соответствующие этим рецептами, в порядке убывания длины."
      ]
    },
    {
      "cell_type": "code",
      "source": [
        "from nltk.tokenize import sent_tokenize"
      ],
      "metadata": {
        "id": "RP_tv_d-yot1"
      },
      "execution_count": null,
      "outputs": []
    },
    {
      "cell_type": "code",
      "source": [
        "df = pd.read_csv(\"recipes_sample.csv\").astype(str)"
      ],
      "metadata": {
        "id": "BubEFsAex_iy"
      },
      "execution_count": null,
      "outputs": []
    },
    {
      "cell_type": "code",
      "source": [
        "il ={}\n",
        "for  i in range(len(df['description'])):\n",
        "   lenght = int(len(sent_tokenize(df['description'][i])))\n",
        "   id = str(df['id'][i])\n",
        "   il[id] = lenght\n",
        "sorted_tuple = sorted(il.items(), key=lambda x: x[1],reverse=True)\n",
        "sorted_tuple[:5]"
      ],
      "metadata": {
        "colab": {
          "base_uri": "https://localhost:8080/"
        },
        "id": "l6gluw8h1flp",
        "outputId": "a3866f66-d7a8-4f61-8043-b30b7b1d5b97"
      },
      "execution_count": null,
      "outputs": [
        {
          "output_type": "execute_result",
          "data": {
            "text/plain": [
              "[('334113', 76),\n",
              " ('287008', 27),\n",
              " ('328708', 24),\n",
              " ('205348', 23),\n",
              " ('316000', 23)]"
            ]
          },
          "metadata": {},
          "execution_count": 113
        }
      ]
    },
    {
      "cell_type": "markdown",
      "metadata": {
        "id": "61mnq8JNScpz"
      },
      "source": [
        "8\\. Напишите функцию, которая для заданного предложения выводит информацию о частях речи слов, входящих в предложение, в следующем виде:\n",
        "```\n",
        "PRP   VBD   DT      NNS     CC   VBD      NNS        RB   \n",
        " I  omitted the raspberries and added strawberries instead\n",
        "``` \n",
        "Для определения части речи слова можно воспользоваться `nltk.pos_tag`.\n",
        "\n",
        "Проверьте работоспособность функции на названии рецепта с id 241106.\n",
        "\n",
        "Обратите внимание, что часть речи должна находиться ровно посередине над соотвествующим словом, а между самими словами должен быть ровно один пробел.\n"
      ]
    },
    {
      "cell_type": "code",
      "source": [
        "recipes['name'][recipes['id'] == 241106]"
      ],
      "metadata": {
        "colab": {
          "base_uri": "https://localhost:8080/"
        },
        "id": "S5YQmyOiuFs0",
        "outputId": "9b14c7c3-46b6-4788-f145-61213bd2a56f"
      },
      "execution_count": null,
      "outputs": [
        {
          "output_type": "execute_result",
          "data": {
            "text/plain": [
              "10437    eggplant steaks with chickpeas  feta cheese an...\n",
              "Name: name, dtype: object"
            ]
          },
          "metadata": {},
          "execution_count": 13
        }
      ]
    },
    {
      "cell_type": "code",
      "execution_count": null,
      "metadata": {
        "colab": {
          "base_uri": "https://localhost:8080/"
        },
        "id": "3cwanO7cScp0",
        "outputId": "e9afd8d4-49a0-4cc7-bec1-50f309117a94"
      },
      "outputs": [
        {
          "output_type": "stream",
          "name": "stderr",
          "text": [
            "[nltk_data] Downloading package averaged_perceptron_tagger to\n",
            "[nltk_data]     /root/nltk_data...\n",
            "[nltk_data]   Package averaged_perceptron_tagger is already up-to-\n",
            "[nltk_data]       date!\n",
            "[nltk_data] Downloading package punkt to /root/nltk_data...\n",
            "[nltk_data]   Unzipping tokenizers/punkt.zip.\n"
          ]
        },
        {
          "output_type": "stream",
          "name": "stdout",
          "text": [
            "    JJ     NNS    IN     NNS    VBP    JJ   CC   JJ    NNS  \n",
            "eggplant steaks with chickpeas feta cheese and black olives \n"
          ]
        }
      ],
      "source": [
        "nltk.download('averaged_perceptron_tagger')\n",
        "nltk.download('punkt')\n",
        "def stag(sent):\n",
        "  wval = nltk.pos_tag(nltk.word_tokenize(sent))\n",
        "  r1, r2 = '', ''\n",
        "  for k in wval:\n",
        "    r1 += f' {k[1]: ^{len(k[0])}}'\n",
        "    r2 += k[0]+' '\n",
        "  return r1 + '\\n' + r2\n",
        "\n",
        "sent = recipes['name'][recipes['id'] == 241106].values[0]\n",
        "print(stag(sent))"
      ]
    }
  ],
  "metadata": {
    "kernelspec": {
      "display_name": "Python 3 (ipykernel)",
      "language": "python",
      "name": "python3"
    },
    "language_info": {
      "codemirror_mode": {
        "name": "ipython",
        "version": 3
      },
      "file_extension": ".py",
      "mimetype": "text/x-python",
      "name": "python",
      "nbconvert_exporter": "python",
      "pygments_lexer": "ipython3",
      "version": "3.9.7"
    },
    "colab": {
      "provenance": []
    }
  },
  "nbformat": 4,
  "nbformat_minor": 0
}