{
  "cells": [
    {
      "cell_type": "markdown",
      "metadata": {
        "id": "E14XuJzazgaB"
      },
      "source": [
        "# Введение в обработку текста на естественном языке"
      ]
    },
    {
      "cell_type": "markdown",
      "metadata": {
        "id": "wN1ONtpYzgaD"
      },
      "source": [
        "Материалы:\n",
        "* Макрушин С.В. Лекция 9: Введение в обработку текста на естественном языке\\\n",
        "* https://realpython.com/nltk-nlp-python/\n",
        "* https://scikit-learn.org/stable/modules/feature_extraction.html"
      ]
    },
    {
      "cell_type": "markdown",
      "metadata": {
        "id": "MdMdgETZzgaE"
      },
      "source": [
        "## Задачи для совместного разбора"
      ]
    },
    {
      "cell_type": "code",
      "execution_count": 7,
      "metadata": {
        "id": "tk-TxiCozgaE",
        "colab": {
          "base_uri": "https://localhost:8080/",
          "height": 321
        },
        "outputId": "7ebbd493-f9d1-4d40-d6aa-0a1b96ca5407"
      },
      "outputs": [
        {
          "output_type": "error",
          "ename": "ModuleNotFoundError",
          "evalue": "ignored",
          "traceback": [
            "\u001b[0;31m---------------------------------------------------------------------------\u001b[0m",
            "\u001b[0;31mModuleNotFoundError\u001b[0m                       Traceback (most recent call last)",
            "\u001b[0;32m<ipython-input-7-223a39775638>\u001b[0m in \u001b[0;36m<cell line: 2>\u001b[0;34m()\u001b[0m\n\u001b[1;32m      1\u001b[0m \u001b[0;32mfrom\u001b[0m \u001b[0msklearn\u001b[0m\u001b[0;34m.\u001b[0m\u001b[0mfeature_extraction\u001b[0m\u001b[0;34m.\u001b[0m\u001b[0mtext\u001b[0m \u001b[0;32mimport\u001b[0m \u001b[0mCountVectorizer\u001b[0m\u001b[0;34m\u001b[0m\u001b[0;34m\u001b[0m\u001b[0m\n\u001b[0;32m----> 2\u001b[0;31m \u001b[0;32mimport\u001b[0m \u001b[0mpymorphy2\u001b[0m\u001b[0;34m\u001b[0m\u001b[0;34m\u001b[0m\u001b[0m\n\u001b[0m",
            "\u001b[0;31mModuleNotFoundError\u001b[0m: No module named 'pymorphy2'",
            "",
            "\u001b[0;31m---------------------------------------------------------------------------\u001b[0;32m\nNOTE: If your import is failing due to a missing package, you can\nmanually install dependencies using either !pip or !apt.\n\nTo view examples of installing some common dependencies, click the\n\"Open Examples\" button below.\n\u001b[0;31m---------------------------------------------------------------------------\u001b[0m\n"
          ],
          "errorDetails": {
            "actions": [
              {
                "action": "open_url",
                "actionText": "Open Examples",
                "url": "/notebooks/snippets/importing_libraries.ipynb"
              }
            ]
          }
        }
      ],
      "source": [
        "from sklearn.feature_extraction.text import CountVectorizer\n",
        "import pymorphy2"
      ]
    },
    {
      "cell_type": "code",
      "source": [
        "!pip install pymorphy2"
      ],
      "metadata": {
        "colab": {
          "base_uri": "https://localhost:8080/"
        },
        "id": "ShSrvlP_57TX",
        "outputId": "fb328f7b-a9cf-451f-ab73-33c4fda1efe8"
      },
      "execution_count": null,
      "outputs": [
        {
          "output_type": "stream",
          "name": "stdout",
          "text": [
            "Looking in indexes: https://pypi.org/simple, https://us-python.pkg.dev/colab-wheels/public/simple/\n",
            "Collecting pymorphy2\n",
            "  Downloading pymorphy2-0.9.1-py3-none-any.whl (55 kB)\n",
            "\u001b[2K     \u001b[90m━━━━━━━━━━━━━━━━━━━━━━━━━━━━━━━━━━━━━━━━\u001b[0m \u001b[32m55.5/55.5 kB\u001b[0m \u001b[31m3.1 MB/s\u001b[0m eta \u001b[36m0:00:00\u001b[0m\n",
            "\u001b[?25hCollecting dawg-python>=0.7.1 (from pymorphy2)\n",
            "  Downloading DAWG_Python-0.7.2-py2.py3-none-any.whl (11 kB)\n",
            "Collecting pymorphy2-dicts-ru<3.0,>=2.4 (from pymorphy2)\n",
            "  Downloading pymorphy2_dicts_ru-2.4.417127.4579844-py2.py3-none-any.whl (8.2 MB)\n",
            "\u001b[2K     \u001b[90m━━━━━━━━━━━━━━━━━━━━━━━━━━━━━━━━━━━━━━━━\u001b[0m \u001b[32m8.2/8.2 MB\u001b[0m \u001b[31m66.8 MB/s\u001b[0m eta \u001b[36m0:00:00\u001b[0m\n",
            "\u001b[?25hCollecting docopt>=0.6 (from pymorphy2)\n",
            "  Downloading docopt-0.6.2.tar.gz (25 kB)\n",
            "  Preparing metadata (setup.py) ... \u001b[?25l\u001b[?25hdone\n",
            "Building wheels for collected packages: docopt\n",
            "  Building wheel for docopt (setup.py) ... \u001b[?25l\u001b[?25hdone\n",
            "  Created wheel for docopt: filename=docopt-0.6.2-py2.py3-none-any.whl size=13707 sha256=acd34234780e83e44dd13b30e512c3d79d4811b4b470f0d9db8eeee84a7ec120\n",
            "  Stored in directory: /root/.cache/pip/wheels/fc/ab/d4/5da2067ac95b36618c629a5f93f809425700506f72c9732fac\n",
            "Successfully built docopt\n",
            "Installing collected packages: pymorphy2-dicts-ru, docopt, dawg-python, pymorphy2\n",
            "Successfully installed dawg-python-0.7.2 docopt-0.6.2 pymorphy2-0.9.1 pymorphy2-dicts-ru-2.4.417127.4579844\n"
          ]
        }
      ]
    },
    {
      "cell_type": "markdown",
      "metadata": {
        "id": "OL0qC4sjzgaF"
      },
      "source": [
        "1. Считайте слова из файла `litw-win.txt` и запишите их в список `words`. В заданном предложении исправьте все опечатки, заменив слова с опечатками на ближайшие (в смысле расстояния Левенштейна) к ним слова из списка `words`. Считайте, что в слове есть опечатка, если данное слово не содержится в списке `words`. "
      ]
    },
    {
      "cell_type": "code",
      "execution_count": null,
      "metadata": {
        "id": "PL5gfYNnzgaF"
      },
      "outputs": [],
      "source": [
        "text = '''с велечайшим усилием выбравшись из потока убегающих людей Кутузов со свитой уменьшевшейся вдвое поехал на звуки выстрелов русских орудий'''"
      ]
    },
    {
      "cell_type": "markdown",
      "metadata": {
        "id": "o17llVMkzgaG"
      },
      "source": [
        "2. Разбейте текст из формулировки задания 1 на слова; проведите стемминг и лемматизацию слов."
      ]
    },
    {
      "cell_type": "markdown",
      "metadata": {
        "id": "gYPAb2dizgaG"
      },
      "source": [
        "3. Преобразуйте предложения из формулировки задания 1 в векторы при помощи `CountVectorizer`."
      ]
    },
    {
      "cell_type": "markdown",
      "metadata": {
        "id": "nzP5n6LezgaG"
      },
      "source": [
        "## Лабораторная работа 9"
      ]
    },
    {
      "cell_type": "markdown",
      "metadata": {
        "id": "CZ-shkGzzgaG"
      },
      "source": [
        "### Расстояние редактирования"
      ]
    },
    {
      "cell_type": "code",
      "source": [
        "import pandas as pd\n",
        "import numpy as np \n",
        "import nltk\n",
        "from nltk import word_tokenize\n",
        "nltk.download('punkt')"
      ],
      "metadata": {
        "colab": {
          "base_uri": "https://localhost:8080/"
        },
        "id": "NUcfBcJCzm75",
        "outputId": "664f9756-0781-41a5-c740-22e8169995ec"
      },
      "execution_count": 8,
      "outputs": [
        {
          "output_type": "stream",
          "name": "stderr",
          "text": [
            "[nltk_data] Downloading package punkt to /root/nltk_data...\n",
            "[nltk_data]   Unzipping tokenizers/punkt.zip.\n"
          ]
        },
        {
          "output_type": "execute_result",
          "data": {
            "text/plain": [
              "True"
            ]
          },
          "metadata": {},
          "execution_count": 8
        }
      ]
    },
    {
      "cell_type": "markdown",
      "metadata": {
        "id": "2PAQkoB8zgaG"
      },
      "source": [
        "1.1 Загрузите предобработанные описания рецептов из файла `preprocessed_descriptions.csv`. Получите набор уникальных слов `words`, содержащихся в текстах описаний рецептов (воспользуйтесь `word_tokenize` из `nltk`). "
      ]
    },
    {
      "cell_type": "code",
      "source": [
        "file = pd.read_csv('preprocessed_descriptions.csv')\n",
        "word = set()\n",
        "for i in range(len(file)):\n",
        "  unique = []\n",
        "  if type(file.preprocessed_descriptions[i]) == str:\n",
        "    unique.append(word_tokenize(file.preprocessed_descriptions[i]))\n",
        "  for j in range(len(unique)):\n",
        "    word.update(unique[j])\n",
        "word = list(word)\n",
        "print(word[:5])"
      ],
      "metadata": {
        "colab": {
          "base_uri": "https://localhost:8080/"
        },
        "id": "mI2-NT_NziJ5",
        "outputId": "a6305b4d-e675-4f43-b8bb-8c92822523c4"
      },
      "execution_count": 9,
      "outputs": [
        {
          "output_type": "stream",
          "name": "stdout",
          "text": [
            "['albacore', 'scrolls', 'appetizercan', 'wichcraft', 'weave']\n"
          ]
        }
      ]
    },
    {
      "cell_type": "code",
      "source": [
        "f2 = pd.read_csv('recipes_sample.csv')\n",
        "recipes = f2.dropna(subset=['description'])"
      ],
      "metadata": {
        "id": "c1vLevA5KrFe"
      },
      "execution_count": 12,
      "outputs": []
    },
    {
      "cell_type": "markdown",
      "metadata": {
        "id": "OqTCgzZUzgaH"
      },
      "source": [
        "1.2 Сгенерируйте 5 пар случайно выбранных слов и посчитайте между ними расстояние редактирования."
      ]
    },
    {
      "cell_type": "code",
      "source": [
        "import random"
      ],
      "metadata": {
        "id": "NkOdr-tY4p8z"
      },
      "execution_count": 13,
      "outputs": []
    },
    {
      "cell_type": "code",
      "source": [
        "for i in range(5):\n",
        "  first = random.randint(0,len(word))\n",
        "  second = random.randint(0,len(word))\n",
        "  destination = nltk.edit_distance(word[first],word[second])\n",
        "  print(f\"Расстояние между парами слов {word[first]} и {word[second]} {destination} шагов\")"
      ],
      "metadata": {
        "colab": {
          "base_uri": "https://localhost:8080/"
        },
        "id": "4F3ih2xA4w5s",
        "outputId": "664b227b-5253-4a93-bb15-c9f55d78b690"
      },
      "execution_count": 14,
      "outputs": [
        {
          "output_type": "stream",
          "name": "stdout",
          "text": [
            "Расстояние между парами слов bahamian и jaime 6 шагов\n",
            "Расстояние между парами слов lpezalt и chances 7 шагов\n",
            "Расстояние между парами слов triedjust и mdc 8 шагов\n",
            "Расстояние между парами слов ottomans и impulsively 11 шагов\n",
            "Расстояние между парами слов tried и 227 5 шагов\n"
          ]
        }
      ]
    },
    {
      "cell_type": "markdown",
      "metadata": {
        "id": "tVGdscOYzgaH"
      },
      "source": [
        "1.3 Напишите функцию, которая для заданного слова `word` возвращает `k` ближайших к нему слов из списка `words` (близость слов измеряется с помощью расстояния Левенштейна)"
      ]
    },
    {
      "cell_type": "code",
      "source": [
        "def Levenshtein(w,k,word):\n",
        "  s = list()\n",
        "  for i in word:\n",
        "    s.append(tuple([nltk.edit_distance(w,i),i]))\n",
        "  s.sort(key = lambda x: x[0])\n",
        "  result = list()\n",
        "  for i in s[:k]:\n",
        "    result.append(i[1])\n",
        "  return result\n",
        "  \n",
        "\n",
        "Levenshtein(\"sdfr\", 4, word)"
      ],
      "metadata": {
        "colab": {
          "base_uri": "https://localhost:8080/"
        },
        "id": "XHnxzdy_6nYc",
        "outputId": "b9bef22b-e2ce-4a0e-8701-05c96fcc995d"
      },
      "execution_count": 15,
      "outputs": [
        {
          "output_type": "execute_result",
          "data": {
            "text/plain": [
              "['seder', 'safer', 'dr', 'star']"
            ]
          },
          "metadata": {},
          "execution_count": 15
        }
      ]
    },
    {
      "cell_type": "markdown",
      "metadata": {
        "id": "8a0YmvTfzgaH"
      },
      "source": [
        "### Стемминг, лемматизация"
      ]
    },
    {
      "cell_type": "markdown",
      "metadata": {
        "id": "jFx4Ye0ozgaH"
      },
      "source": [
        "2.1 На основе результатов 1.1 создайте `pd.DataFrame` со столбцами: \n",
        "    * word\n",
        "    * stemmed_word \n",
        "    * normalized_word \n",
        "\n",
        "Столбец `word` укажите в качестве индекса. \n",
        "\n",
        "Для стемминга воспользуйтесь `SnowballStemmer`, для нормализации слов - `WordNetLemmatizer`. Сравните результаты стемминга и лемматизации."
      ]
    },
    {
      "cell_type": "code",
      "source": [
        "import nltk\n",
        "nltk.download('wordnet')"
      ],
      "metadata": {
        "colab": {
          "base_uri": "https://localhost:8080/"
        },
        "id": "N79AvPg4EgOT",
        "outputId": "e7fa6704-5cd1-4555-c2f6-21e21c009fa3"
      },
      "execution_count": 16,
      "outputs": [
        {
          "output_type": "stream",
          "name": "stderr",
          "text": [
            "[nltk_data] Downloading package wordnet to /root/nltk_data...\n"
          ]
        },
        {
          "output_type": "execute_result",
          "data": {
            "text/plain": [
              "True"
            ]
          },
          "metadata": {},
          "execution_count": 16
        }
      ]
    },
    {
      "cell_type": "code",
      "source": [
        "stemmer = nltk.SnowballStemmer('english')\n",
        "lemmatiser = nltk.WordNetLemmatizer()\n",
        "\n",
        "a,b = [],[]\n",
        "for i in word:\n",
        "  a.append(stemmer.stem(i))\n",
        "  b.append(lemmatiser.lemmatize(i))\n",
        "w1 = pd.DataFrame({'stemmed_word':a, 'normalized_word':b})\n",
        "w1.index = word\n",
        "w1\n"
      ],
      "metadata": {
        "colab": {
          "base_uri": "https://localhost:8080/",
          "height": 423
        },
        "id": "OXvxANzMAIAA",
        "outputId": "398d4817-01fe-463b-b55c-9e54d0479143"
      },
      "execution_count": 17,
      "outputs": [
        {
          "output_type": "execute_result",
          "data": {
            "text/plain": [
              "              stemmed_word normalized_word\n",
              "albacore           albacor        albacore\n",
              "scrolls             scroll          scroll\n",
              "appetizercan  appetizercan    appetizercan\n",
              "wichcraft        wichcraft       wichcraft\n",
              "weave                 weav           weave\n",
              "...                    ...             ...\n",
              "threeyearold  threeyearold    threeyearold\n",
              "jackies              jacki         jackies\n",
              "sued                    su            sued\n",
              "cookbook          cookbook        cookbook\n",
              "tanzanian        tanzanian       tanzanian\n",
              "\n",
              "[32868 rows x 2 columns]"
            ],
            "text/html": [
              "\n",
              "  <div id=\"df-42b5cba8-77bc-4e19-8ecd-a93e9230dcb7\">\n",
              "    <div class=\"colab-df-container\">\n",
              "      <div>\n",
              "<style scoped>\n",
              "    .dataframe tbody tr th:only-of-type {\n",
              "        vertical-align: middle;\n",
              "    }\n",
              "\n",
              "    .dataframe tbody tr th {\n",
              "        vertical-align: top;\n",
              "    }\n",
              "\n",
              "    .dataframe thead th {\n",
              "        text-align: right;\n",
              "    }\n",
              "</style>\n",
              "<table border=\"1\" class=\"dataframe\">\n",
              "  <thead>\n",
              "    <tr style=\"text-align: right;\">\n",
              "      <th></th>\n",
              "      <th>stemmed_word</th>\n",
              "      <th>normalized_word</th>\n",
              "    </tr>\n",
              "  </thead>\n",
              "  <tbody>\n",
              "    <tr>\n",
              "      <th>albacore</th>\n",
              "      <td>albacor</td>\n",
              "      <td>albacore</td>\n",
              "    </tr>\n",
              "    <tr>\n",
              "      <th>scrolls</th>\n",
              "      <td>scroll</td>\n",
              "      <td>scroll</td>\n",
              "    </tr>\n",
              "    <tr>\n",
              "      <th>appetizercan</th>\n",
              "      <td>appetizercan</td>\n",
              "      <td>appetizercan</td>\n",
              "    </tr>\n",
              "    <tr>\n",
              "      <th>wichcraft</th>\n",
              "      <td>wichcraft</td>\n",
              "      <td>wichcraft</td>\n",
              "    </tr>\n",
              "    <tr>\n",
              "      <th>weave</th>\n",
              "      <td>weav</td>\n",
              "      <td>weave</td>\n",
              "    </tr>\n",
              "    <tr>\n",
              "      <th>...</th>\n",
              "      <td>...</td>\n",
              "      <td>...</td>\n",
              "    </tr>\n",
              "    <tr>\n",
              "      <th>threeyearold</th>\n",
              "      <td>threeyearold</td>\n",
              "      <td>threeyearold</td>\n",
              "    </tr>\n",
              "    <tr>\n",
              "      <th>jackies</th>\n",
              "      <td>jacki</td>\n",
              "      <td>jackies</td>\n",
              "    </tr>\n",
              "    <tr>\n",
              "      <th>sued</th>\n",
              "      <td>su</td>\n",
              "      <td>sued</td>\n",
              "    </tr>\n",
              "    <tr>\n",
              "      <th>cookbook</th>\n",
              "      <td>cookbook</td>\n",
              "      <td>cookbook</td>\n",
              "    </tr>\n",
              "    <tr>\n",
              "      <th>tanzanian</th>\n",
              "      <td>tanzanian</td>\n",
              "      <td>tanzanian</td>\n",
              "    </tr>\n",
              "  </tbody>\n",
              "</table>\n",
              "<p>32868 rows × 2 columns</p>\n",
              "</div>\n",
              "      <button class=\"colab-df-convert\" onclick=\"convertToInteractive('df-42b5cba8-77bc-4e19-8ecd-a93e9230dcb7')\"\n",
              "              title=\"Convert this dataframe to an interactive table.\"\n",
              "              style=\"display:none;\">\n",
              "        \n",
              "  <svg xmlns=\"http://www.w3.org/2000/svg\" height=\"24px\"viewBox=\"0 0 24 24\"\n",
              "       width=\"24px\">\n",
              "    <path d=\"M0 0h24v24H0V0z\" fill=\"none\"/>\n",
              "    <path d=\"M18.56 5.44l.94 2.06.94-2.06 2.06-.94-2.06-.94-.94-2.06-.94 2.06-2.06.94zm-11 1L8.5 8.5l.94-2.06 2.06-.94-2.06-.94L8.5 2.5l-.94 2.06-2.06.94zm10 10l.94 2.06.94-2.06 2.06-.94-2.06-.94-.94-2.06-.94 2.06-2.06.94z\"/><path d=\"M17.41 7.96l-1.37-1.37c-.4-.4-.92-.59-1.43-.59-.52 0-1.04.2-1.43.59L10.3 9.45l-7.72 7.72c-.78.78-.78 2.05 0 2.83L4 21.41c.39.39.9.59 1.41.59.51 0 1.02-.2 1.41-.59l7.78-7.78 2.81-2.81c.8-.78.8-2.07 0-2.86zM5.41 20L4 18.59l7.72-7.72 1.47 1.35L5.41 20z\"/>\n",
              "  </svg>\n",
              "      </button>\n",
              "      \n",
              "  <style>\n",
              "    .colab-df-container {\n",
              "      display:flex;\n",
              "      flex-wrap:wrap;\n",
              "      gap: 12px;\n",
              "    }\n",
              "\n",
              "    .colab-df-convert {\n",
              "      background-color: #E8F0FE;\n",
              "      border: none;\n",
              "      border-radius: 50%;\n",
              "      cursor: pointer;\n",
              "      display: none;\n",
              "      fill: #1967D2;\n",
              "      height: 32px;\n",
              "      padding: 0 0 0 0;\n",
              "      width: 32px;\n",
              "    }\n",
              "\n",
              "    .colab-df-convert:hover {\n",
              "      background-color: #E2EBFA;\n",
              "      box-shadow: 0px 1px 2px rgba(60, 64, 67, 0.3), 0px 1px 3px 1px rgba(60, 64, 67, 0.15);\n",
              "      fill: #174EA6;\n",
              "    }\n",
              "\n",
              "    [theme=dark] .colab-df-convert {\n",
              "      background-color: #3B4455;\n",
              "      fill: #D2E3FC;\n",
              "    }\n",
              "\n",
              "    [theme=dark] .colab-df-convert:hover {\n",
              "      background-color: #434B5C;\n",
              "      box-shadow: 0px 1px 3px 1px rgba(0, 0, 0, 0.15);\n",
              "      filter: drop-shadow(0px 1px 2px rgba(0, 0, 0, 0.3));\n",
              "      fill: #FFFFFF;\n",
              "    }\n",
              "  </style>\n",
              "\n",
              "      <script>\n",
              "        const buttonEl =\n",
              "          document.querySelector('#df-42b5cba8-77bc-4e19-8ecd-a93e9230dcb7 button.colab-df-convert');\n",
              "        buttonEl.style.display =\n",
              "          google.colab.kernel.accessAllowed ? 'block' : 'none';\n",
              "\n",
              "        async function convertToInteractive(key) {\n",
              "          const element = document.querySelector('#df-42b5cba8-77bc-4e19-8ecd-a93e9230dcb7');\n",
              "          const dataTable =\n",
              "            await google.colab.kernel.invokeFunction('convertToInteractive',\n",
              "                                                     [key], {});\n",
              "          if (!dataTable) return;\n",
              "\n",
              "          const docLinkHtml = 'Like what you see? Visit the ' +\n",
              "            '<a target=\"_blank\" href=https://colab.research.google.com/notebooks/data_table.ipynb>data table notebook</a>'\n",
              "            + ' to learn more about interactive tables.';\n",
              "          element.innerHTML = '';\n",
              "          dataTable['output_type'] = 'display_data';\n",
              "          await google.colab.output.renderOutput(dataTable, element);\n",
              "          const docLink = document.createElement('div');\n",
              "          docLink.innerHTML = docLinkHtml;\n",
              "          element.appendChild(docLink);\n",
              "        }\n",
              "      </script>\n",
              "    </div>\n",
              "  </div>\n",
              "  "
            ]
          },
          "metadata": {},
          "execution_count": 17
        }
      ]
    },
    {
      "cell_type": "markdown",
      "metadata": {
        "id": "9qSqyPQJzgaH"
      },
      "source": [
        "2.2. Удалите стоп-слова из описаний рецептов. Какую долю об общего количества слов составляли стоп-слова? Сравните топ-10 самых часто употребляемых слов до и после удаления стоп-слов."
      ]
    },
    {
      "cell_type": "code",
      "source": [
        "from nltk.corpus import stopwords\n",
        "nltk.download('stopwords')"
      ],
      "metadata": {
        "colab": {
          "base_uri": "https://localhost:8080/"
        },
        "id": "Aum8ofcxEmqr",
        "outputId": "7c6019ad-ab4f-445a-f401-ae7b50bca033"
      },
      "execution_count": 18,
      "outputs": [
        {
          "output_type": "stream",
          "name": "stderr",
          "text": [
            "[nltk_data] Downloading package stopwords to /root/nltk_data...\n",
            "[nltk_data]   Unzipping corpora/stopwords.zip.\n"
          ]
        },
        {
          "output_type": "execute_result",
          "data": {
            "text/plain": [
              "True"
            ]
          },
          "metadata": {},
          "execution_count": 18
        }
      ]
    },
    {
      "cell_type": "code",
      "source": [
        "from nltk.corpus import stopwords\n",
        "lst = []\n",
        "for i in file['preprocessed_descriptions']:\n",
        "    lst.extend(nltk.word_tokenize(str(i)))\n",
        "print(len(lst))\n",
        "\n",
        "stopw = stopwords.words(\"english\")\n",
        "lst2 = [x for x in lst if not x in stopw]\n",
        "print(len(lst2))\n",
        "\n",
        "from collections import Counter\n",
        "print(f\"Стоп-слова составили от общего количества слов {round((len(lst)-len(lst2))/len(lst), 5)}\")\n",
        "top1 = Counter(lst).most_common(10)\n",
        "top2 = Counter(lst2).most_common(10)\n",
        "print(\"Топ-10 самых часто употребляемых слов до удаления стоп-слов \", (top1))\n",
        "print(\"Топ-10 самых часто употребляемых слов после удаления стоп-слов \", (top2))"
      ],
      "metadata": {
        "colab": {
          "base_uri": "https://localhost:8080/"
        },
        "id": "Xp01JeGDFBkS",
        "outputId": "3d1eee4e-7cbe-48f8-b3a8-cce4c9dc7c8c"
      },
      "execution_count": 21,
      "outputs": [
        {
          "output_type": "stream",
          "name": "stdout",
          "text": [
            "1069885\n",
            "581520\n",
            "Стоп-слова составили от общего количества слов 0.45646\n",
            "Топ-10 самых часто употребляемых слов до удаления стоп-слов  [('the', 40072), ('a', 34951), ('and', 30245), ('this', 26859), ('i', 24836), ('to', 23471), ('is', 20285), ('it', 19756), ('of', 18364), ('for', 15939)]\n",
            "Топ-10 самых часто употребляемых слов после удаления стоп-слов  [('recipe', 14871), ('make', 6326), ('time', 5137), ('use', 4620), ('great', 4430), ('like', 4167), ('easy', 4152), ('one', 3872), ('made', 3810), ('good', 3791)]\n"
          ]
        }
      ]
    },
    {
      "cell_type": "code",
      "source": [
        "w_len = 0\n",
        "w_st = 0\n",
        "result = []\n",
        "stop_words = stopwords.words('english')\n",
        "for i in word:\n",
        "  for j in nltk.word_tokenize(str(i)):\n",
        "    w_len += 1\n",
        "    if j not in stop_words:\n",
        "      result.append(j)\n",
        "    else:\n",
        "      w_st += 1\n",
        "w_st/w_len*100"
      ],
      "metadata": {
        "colab": {
          "base_uri": "https://localhost:8080/"
        },
        "id": "8QpDP1BCHlhF",
        "outputId": "bb6e6288-58d5-4526-b5cd-904317520e14"
      },
      "execution_count": null,
      "outputs": [
        {
          "output_type": "execute_result",
          "data": {
            "text/plain": [
              "0.0"
            ]
          },
          "metadata": {},
          "execution_count": 67
        }
      ]
    },
    {
      "cell_type": "markdown",
      "metadata": {
        "id": "ZnFBgtOwzgaI"
      },
      "source": [
        "### Векторное представление текста"
      ]
    },
    {
      "cell_type": "markdown",
      "metadata": {
        "id": "hbZ32v5XzgaI"
      },
      "source": [
        "3.1 Выберите случайным образом 5 рецептов из набора данных. Представьте описание каждого рецепта в виде числового вектора при помощи `TfidfVectorizer`"
      ]
    },
    {
      "cell_type": "code",
      "source": [
        "from sklearn.feature_extraction.text import (CountVectorizer, TfidfVectorizer)"
      ],
      "metadata": {
        "id": "5gi_1u0MGUIk"
      },
      "execution_count": 22,
      "outputs": []
    },
    {
      "cell_type": "code",
      "source": [
        "v = TfidfVectorizer()\n",
        "file2 = pd.read_csv(\"recipes_sample.csv\")\n",
        "sample = file2.sample(5)\n",
        "table = pd.DataFrame(v.fit_transform(sample.description).toarray(), columns=v.vocabulary_, index=sample.name)\n",
        "table"
      ],
      "metadata": {
        "colab": {
          "base_uri": "https://localhost:8080/",
          "height": 556
        },
        "id": "iX5w1IFIJeem",
        "outputId": "3d0762b8-93a9-44f6-826b-bbe8c34848a6"
      },
      "execution_count": 26,
      "outputs": [
        {
          "output_type": "execute_result",
          "data": {
            "text/plain": [
              "                                              this      very     easy  \\\n",
              "name                                                                    \n",
              "horseradish beef  crock pot               0.000000  0.000000  0.00000   \n",
              "healthy peanut butter   honey cookies     0.000000  0.000000  0.13044   \n",
              "orange sparklers                          0.000000  0.000000  0.00000   \n",
              "brandied cranberry sour cream cheesecake  0.212547  0.000000  0.00000   \n",
              "the best vanilla lemon sorbet             0.000000  0.096216  0.00000   \n",
              "\n",
              "                                               and  delicious     skip  \\\n",
              "name                                                                     \n",
              "horseradish beef  crock pot               0.000000   0.475480  0.00000   \n",
              "healthy peanut butter   honey cookies     0.000000   0.174714  0.13044   \n",
              "orange sparklers                          0.000000   0.000000  0.00000   \n",
              "brandied cranberry sour cream cheesecake  0.000000   0.000000  0.00000   \n",
              "the best vanilla lemon sorbet             0.096216   0.128874  0.00000   \n",
              "\n",
              "                                              the  browning       use  \\\n",
              "name                                                                    \n",
              "horseradish beef  crock pot               0.00000  0.000000  0.000000   \n",
              "healthy peanut butter   honey cookies     0.13044  0.000000  0.000000   \n",
              "orange sparklers                          0.00000  0.000000  0.000000   \n",
              "brandied cranberry sour cream cheesecake  0.00000  0.000000  0.000000   \n",
              "the best vanilla lemon sorbet             0.00000  0.096216  0.096216   \n",
              "\n",
              "                                            dried  ...  beautiful  refreshing  \\\n",
              "name                                               ...                          \n",
              "horseradish beef  crock pot               0.00000  ...   0.190935    0.000000   \n",
              "healthy peanut butter   honey cookies     0.13044  ...   0.105238    0.000000   \n",
              "orange sparklers                          0.00000  ...   0.000000    0.000000   \n",
              "brandied cranberry sour cream cheesecake  0.00000  ...   0.000000    0.212547   \n",
              "the best vanilla lemon sorbet             0.00000  ...   0.000000    0.000000   \n",
              "\n",
              "                                           dessert    night       be     made  \\\n",
              "name                                                                            \n",
              "horseradish beef  crock pot               0.000000  0.00000  0.00000  0.00000   \n",
              "healthy peanut butter   honey cookies     0.000000  0.13044  0.13044  0.13044   \n",
              "orange sparklers                          0.280229  0.00000  0.00000  0.00000   \n",
              "brandied cranberry sour cream cheesecake  0.000000  0.00000  0.00000  0.00000   \n",
              "the best vanilla lemon sorbet             0.000000  0.00000  0.00000  0.00000   \n",
              "\n",
              "                                                an  icecream     maker  \\\n",
              "name                                                                     \n",
              "horseradish beef  crock pot               0.000000   0.00000  0.000000   \n",
              "healthy peanut butter   honey cookies     0.087357   0.13044  0.315715   \n",
              "orange sparklers                          0.187673   0.00000  0.000000   \n",
              "brandied cranberry sour cream cheesecake  0.000000   0.00000  0.000000   \n",
              "the best vanilla lemon sorbet             0.064437   0.00000  0.465758   \n",
              "\n",
              "                                               don  \n",
              "name                                                \n",
              "horseradish beef  crock pot               0.000000  \n",
              "healthy peanut butter   honey cookies     0.000000  \n",
              "orange sparklers                          0.280229  \n",
              "brandied cranberry sour cream cheesecake  0.000000  \n",
              "the best vanilla lemon sorbet             0.000000  \n",
              "\n",
              "[5 rows x 120 columns]"
            ],
            "text/html": [
              "\n",
              "  <div id=\"df-aca7004f-cfdc-4529-87d1-50b0118256a7\">\n",
              "    <div class=\"colab-df-container\">\n",
              "      <div>\n",
              "<style scoped>\n",
              "    .dataframe tbody tr th:only-of-type {\n",
              "        vertical-align: middle;\n",
              "    }\n",
              "\n",
              "    .dataframe tbody tr th {\n",
              "        vertical-align: top;\n",
              "    }\n",
              "\n",
              "    .dataframe thead th {\n",
              "        text-align: right;\n",
              "    }\n",
              "</style>\n",
              "<table border=\"1\" class=\"dataframe\">\n",
              "  <thead>\n",
              "    <tr style=\"text-align: right;\">\n",
              "      <th></th>\n",
              "      <th>this</th>\n",
              "      <th>very</th>\n",
              "      <th>easy</th>\n",
              "      <th>and</th>\n",
              "      <th>delicious</th>\n",
              "      <th>skip</th>\n",
              "      <th>the</th>\n",
              "      <th>browning</th>\n",
              "      <th>use</th>\n",
              "      <th>dried</th>\n",
              "      <th>...</th>\n",
              "      <th>beautiful</th>\n",
              "      <th>refreshing</th>\n",
              "      <th>dessert</th>\n",
              "      <th>night</th>\n",
              "      <th>be</th>\n",
              "      <th>made</th>\n",
              "      <th>an</th>\n",
              "      <th>icecream</th>\n",
              "      <th>maker</th>\n",
              "      <th>don</th>\n",
              "    </tr>\n",
              "    <tr>\n",
              "      <th>name</th>\n",
              "      <th></th>\n",
              "      <th></th>\n",
              "      <th></th>\n",
              "      <th></th>\n",
              "      <th></th>\n",
              "      <th></th>\n",
              "      <th></th>\n",
              "      <th></th>\n",
              "      <th></th>\n",
              "      <th></th>\n",
              "      <th></th>\n",
              "      <th></th>\n",
              "      <th></th>\n",
              "      <th></th>\n",
              "      <th></th>\n",
              "      <th></th>\n",
              "      <th></th>\n",
              "      <th></th>\n",
              "      <th></th>\n",
              "      <th></th>\n",
              "      <th></th>\n",
              "    </tr>\n",
              "  </thead>\n",
              "  <tbody>\n",
              "    <tr>\n",
              "      <th>horseradish beef  crock pot</th>\n",
              "      <td>0.000000</td>\n",
              "      <td>0.000000</td>\n",
              "      <td>0.00000</td>\n",
              "      <td>0.000000</td>\n",
              "      <td>0.475480</td>\n",
              "      <td>0.00000</td>\n",
              "      <td>0.00000</td>\n",
              "      <td>0.000000</td>\n",
              "      <td>0.000000</td>\n",
              "      <td>0.00000</td>\n",
              "      <td>...</td>\n",
              "      <td>0.190935</td>\n",
              "      <td>0.000000</td>\n",
              "      <td>0.000000</td>\n",
              "      <td>0.00000</td>\n",
              "      <td>0.00000</td>\n",
              "      <td>0.00000</td>\n",
              "      <td>0.000000</td>\n",
              "      <td>0.00000</td>\n",
              "      <td>0.000000</td>\n",
              "      <td>0.000000</td>\n",
              "    </tr>\n",
              "    <tr>\n",
              "      <th>healthy peanut butter   honey cookies</th>\n",
              "      <td>0.000000</td>\n",
              "      <td>0.000000</td>\n",
              "      <td>0.13044</td>\n",
              "      <td>0.000000</td>\n",
              "      <td>0.174714</td>\n",
              "      <td>0.13044</td>\n",
              "      <td>0.13044</td>\n",
              "      <td>0.000000</td>\n",
              "      <td>0.000000</td>\n",
              "      <td>0.13044</td>\n",
              "      <td>...</td>\n",
              "      <td>0.105238</td>\n",
              "      <td>0.000000</td>\n",
              "      <td>0.000000</td>\n",
              "      <td>0.13044</td>\n",
              "      <td>0.13044</td>\n",
              "      <td>0.13044</td>\n",
              "      <td>0.087357</td>\n",
              "      <td>0.13044</td>\n",
              "      <td>0.315715</td>\n",
              "      <td>0.000000</td>\n",
              "    </tr>\n",
              "    <tr>\n",
              "      <th>orange sparklers</th>\n",
              "      <td>0.000000</td>\n",
              "      <td>0.000000</td>\n",
              "      <td>0.00000</td>\n",
              "      <td>0.000000</td>\n",
              "      <td>0.000000</td>\n",
              "      <td>0.00000</td>\n",
              "      <td>0.00000</td>\n",
              "      <td>0.000000</td>\n",
              "      <td>0.000000</td>\n",
              "      <td>0.00000</td>\n",
              "      <td>...</td>\n",
              "      <td>0.000000</td>\n",
              "      <td>0.000000</td>\n",
              "      <td>0.280229</td>\n",
              "      <td>0.00000</td>\n",
              "      <td>0.00000</td>\n",
              "      <td>0.00000</td>\n",
              "      <td>0.187673</td>\n",
              "      <td>0.00000</td>\n",
              "      <td>0.000000</td>\n",
              "      <td>0.280229</td>\n",
              "    </tr>\n",
              "    <tr>\n",
              "      <th>brandied cranberry sour cream cheesecake</th>\n",
              "      <td>0.212547</td>\n",
              "      <td>0.000000</td>\n",
              "      <td>0.00000</td>\n",
              "      <td>0.000000</td>\n",
              "      <td>0.000000</td>\n",
              "      <td>0.00000</td>\n",
              "      <td>0.00000</td>\n",
              "      <td>0.000000</td>\n",
              "      <td>0.000000</td>\n",
              "      <td>0.00000</td>\n",
              "      <td>...</td>\n",
              "      <td>0.000000</td>\n",
              "      <td>0.212547</td>\n",
              "      <td>0.000000</td>\n",
              "      <td>0.00000</td>\n",
              "      <td>0.00000</td>\n",
              "      <td>0.00000</td>\n",
              "      <td>0.000000</td>\n",
              "      <td>0.00000</td>\n",
              "      <td>0.000000</td>\n",
              "      <td>0.000000</td>\n",
              "    </tr>\n",
              "    <tr>\n",
              "      <th>the best vanilla lemon sorbet</th>\n",
              "      <td>0.000000</td>\n",
              "      <td>0.096216</td>\n",
              "      <td>0.00000</td>\n",
              "      <td>0.096216</td>\n",
              "      <td>0.128874</td>\n",
              "      <td>0.00000</td>\n",
              "      <td>0.00000</td>\n",
              "      <td>0.096216</td>\n",
              "      <td>0.096216</td>\n",
              "      <td>0.00000</td>\n",
              "      <td>...</td>\n",
              "      <td>0.000000</td>\n",
              "      <td>0.000000</td>\n",
              "      <td>0.000000</td>\n",
              "      <td>0.00000</td>\n",
              "      <td>0.00000</td>\n",
              "      <td>0.00000</td>\n",
              "      <td>0.064437</td>\n",
              "      <td>0.00000</td>\n",
              "      <td>0.465758</td>\n",
              "      <td>0.000000</td>\n",
              "    </tr>\n",
              "  </tbody>\n",
              "</table>\n",
              "<p>5 rows × 120 columns</p>\n",
              "</div>\n",
              "      <button class=\"colab-df-convert\" onclick=\"convertToInteractive('df-aca7004f-cfdc-4529-87d1-50b0118256a7')\"\n",
              "              title=\"Convert this dataframe to an interactive table.\"\n",
              "              style=\"display:none;\">\n",
              "        \n",
              "  <svg xmlns=\"http://www.w3.org/2000/svg\" height=\"24px\"viewBox=\"0 0 24 24\"\n",
              "       width=\"24px\">\n",
              "    <path d=\"M0 0h24v24H0V0z\" fill=\"none\"/>\n",
              "    <path d=\"M18.56 5.44l.94 2.06.94-2.06 2.06-.94-2.06-.94-.94-2.06-.94 2.06-2.06.94zm-11 1L8.5 8.5l.94-2.06 2.06-.94-2.06-.94L8.5 2.5l-.94 2.06-2.06.94zm10 10l.94 2.06.94-2.06 2.06-.94-2.06-.94-.94-2.06-.94 2.06-2.06.94z\"/><path d=\"M17.41 7.96l-1.37-1.37c-.4-.4-.92-.59-1.43-.59-.52 0-1.04.2-1.43.59L10.3 9.45l-7.72 7.72c-.78.78-.78 2.05 0 2.83L4 21.41c.39.39.9.59 1.41.59.51 0 1.02-.2 1.41-.59l7.78-7.78 2.81-2.81c.8-.78.8-2.07 0-2.86zM5.41 20L4 18.59l7.72-7.72 1.47 1.35L5.41 20z\"/>\n",
              "  </svg>\n",
              "      </button>\n",
              "      \n",
              "  <style>\n",
              "    .colab-df-container {\n",
              "      display:flex;\n",
              "      flex-wrap:wrap;\n",
              "      gap: 12px;\n",
              "    }\n",
              "\n",
              "    .colab-df-convert {\n",
              "      background-color: #E8F0FE;\n",
              "      border: none;\n",
              "      border-radius: 50%;\n",
              "      cursor: pointer;\n",
              "      display: none;\n",
              "      fill: #1967D2;\n",
              "      height: 32px;\n",
              "      padding: 0 0 0 0;\n",
              "      width: 32px;\n",
              "    }\n",
              "\n",
              "    .colab-df-convert:hover {\n",
              "      background-color: #E2EBFA;\n",
              "      box-shadow: 0px 1px 2px rgba(60, 64, 67, 0.3), 0px 1px 3px 1px rgba(60, 64, 67, 0.15);\n",
              "      fill: #174EA6;\n",
              "    }\n",
              "\n",
              "    [theme=dark] .colab-df-convert {\n",
              "      background-color: #3B4455;\n",
              "      fill: #D2E3FC;\n",
              "    }\n",
              "\n",
              "    [theme=dark] .colab-df-convert:hover {\n",
              "      background-color: #434B5C;\n",
              "      box-shadow: 0px 1px 3px 1px rgba(0, 0, 0, 0.15);\n",
              "      filter: drop-shadow(0px 1px 2px rgba(0, 0, 0, 0.3));\n",
              "      fill: #FFFFFF;\n",
              "    }\n",
              "  </style>\n",
              "\n",
              "      <script>\n",
              "        const buttonEl =\n",
              "          document.querySelector('#df-aca7004f-cfdc-4529-87d1-50b0118256a7 button.colab-df-convert');\n",
              "        buttonEl.style.display =\n",
              "          google.colab.kernel.accessAllowed ? 'block' : 'none';\n",
              "\n",
              "        async function convertToInteractive(key) {\n",
              "          const element = document.querySelector('#df-aca7004f-cfdc-4529-87d1-50b0118256a7');\n",
              "          const dataTable =\n",
              "            await google.colab.kernel.invokeFunction('convertToInteractive',\n",
              "                                                     [key], {});\n",
              "          if (!dataTable) return;\n",
              "\n",
              "          const docLinkHtml = 'Like what you see? Visit the ' +\n",
              "            '<a target=\"_blank\" href=https://colab.research.google.com/notebooks/data_table.ipynb>data table notebook</a>'\n",
              "            + ' to learn more about interactive tables.';\n",
              "          element.innerHTML = '';\n",
              "          dataTable['output_type'] = 'display_data';\n",
              "          await google.colab.output.renderOutput(dataTable, element);\n",
              "          const docLink = document.createElement('div');\n",
              "          docLink.innerHTML = docLinkHtml;\n",
              "          element.appendChild(docLink);\n",
              "        }\n",
              "      </script>\n",
              "    </div>\n",
              "  </div>\n",
              "  "
            ]
          },
          "metadata": {},
          "execution_count": 26
        }
      ]
    },
    {
      "cell_type": "markdown",
      "metadata": {
        "id": "x2847uqjzgaI"
      },
      "source": [
        "3.2 Вычислите близость между каждой парой рецептов, выбранных в задании 3.1, используя косинусное расстояние (`scipy.spatial.distance.cosine`) Результаты оформите в виде таблицы `pd.DataFrame`. В качестве названий строк и столбцов используйте названия рецептов."
      ]
    },
    {
      "cell_type": "code",
      "source": [
        "from scipy.spatial.distance import cosine"
      ],
      "metadata": {
        "id": "qCaAqixTKY58"
      },
      "execution_count": 37,
      "outputs": []
    },
    {
      "cell_type": "code",
      "source": [
        "distanation = pd.DataFrame()\n",
        "for i in table.iterrows():\n",
        "    for j in table.iterrows():\n",
        "        distanation.loc[i[0], j[0]] = cosine(i[1].values, j[1].values)\n",
        "distanation"
      ],
      "metadata": {
        "colab": {
          "base_uri": "https://localhost:8080/",
          "height": 206
        },
        "id": "a4x14iIDIYHC",
        "outputId": "7d94dcde-7742-4084-edde-3600ecbb9f33"
      },
      "execution_count": 39,
      "outputs": [
        {
          "output_type": "execute_result",
          "data": {
            "text/plain": [
              "                             brown sugar bbq chicken  moms tacos  \\\n",
              "brown sugar bbq chicken                     0.000000    0.828669   \n",
              "moms tacos                                  0.828669    0.000000   \n",
              "orange vodka                                0.927167    1.000000   \n",
              "garlic lime grilled chicken                 1.000000    1.000000   \n",
              "apple dessert                               0.884667    0.939597   \n",
              "\n",
              "                             orange vodka  garlic lime grilled chicken  \\\n",
              "brown sugar bbq chicken          0.927167                     1.000000   \n",
              "moms tacos                       1.000000                     1.000000   \n",
              "orange vodka                     0.000000                     1.000000   \n",
              "garlic lime grilled chicken      1.000000                     0.000000   \n",
              "apple dessert                    0.899635                     0.917308   \n",
              "\n",
              "                             apple dessert  \n",
              "brown sugar bbq chicken           0.884667  \n",
              "moms tacos                        0.939597  \n",
              "orange vodka                      0.899635  \n",
              "garlic lime grilled chicken       0.917308  \n",
              "apple dessert                     0.000000  "
            ],
            "text/html": [
              "\n",
              "  <div id=\"df-16e1cd35-5285-4894-b611-674780d335f8\">\n",
              "    <div class=\"colab-df-container\">\n",
              "      <div>\n",
              "<style scoped>\n",
              "    .dataframe tbody tr th:only-of-type {\n",
              "        vertical-align: middle;\n",
              "    }\n",
              "\n",
              "    .dataframe tbody tr th {\n",
              "        vertical-align: top;\n",
              "    }\n",
              "\n",
              "    .dataframe thead th {\n",
              "        text-align: right;\n",
              "    }\n",
              "</style>\n",
              "<table border=\"1\" class=\"dataframe\">\n",
              "  <thead>\n",
              "    <tr style=\"text-align: right;\">\n",
              "      <th></th>\n",
              "      <th>brown sugar bbq chicken</th>\n",
              "      <th>moms tacos</th>\n",
              "      <th>orange vodka</th>\n",
              "      <th>garlic lime grilled chicken</th>\n",
              "      <th>apple dessert</th>\n",
              "    </tr>\n",
              "  </thead>\n",
              "  <tbody>\n",
              "    <tr>\n",
              "      <th>brown sugar bbq chicken</th>\n",
              "      <td>0.000000</td>\n",
              "      <td>0.828669</td>\n",
              "      <td>0.927167</td>\n",
              "      <td>1.000000</td>\n",
              "      <td>0.884667</td>\n",
              "    </tr>\n",
              "    <tr>\n",
              "      <th>moms tacos</th>\n",
              "      <td>0.828669</td>\n",
              "      <td>0.000000</td>\n",
              "      <td>1.000000</td>\n",
              "      <td>1.000000</td>\n",
              "      <td>0.939597</td>\n",
              "    </tr>\n",
              "    <tr>\n",
              "      <th>orange vodka</th>\n",
              "      <td>0.927167</td>\n",
              "      <td>1.000000</td>\n",
              "      <td>0.000000</td>\n",
              "      <td>1.000000</td>\n",
              "      <td>0.899635</td>\n",
              "    </tr>\n",
              "    <tr>\n",
              "      <th>garlic lime grilled chicken</th>\n",
              "      <td>1.000000</td>\n",
              "      <td>1.000000</td>\n",
              "      <td>1.000000</td>\n",
              "      <td>0.000000</td>\n",
              "      <td>0.917308</td>\n",
              "    </tr>\n",
              "    <tr>\n",
              "      <th>apple dessert</th>\n",
              "      <td>0.884667</td>\n",
              "      <td>0.939597</td>\n",
              "      <td>0.899635</td>\n",
              "      <td>0.917308</td>\n",
              "      <td>0.000000</td>\n",
              "    </tr>\n",
              "  </tbody>\n",
              "</table>\n",
              "</div>\n",
              "      <button class=\"colab-df-convert\" onclick=\"convertToInteractive('df-16e1cd35-5285-4894-b611-674780d335f8')\"\n",
              "              title=\"Convert this dataframe to an interactive table.\"\n",
              "              style=\"display:none;\">\n",
              "        \n",
              "  <svg xmlns=\"http://www.w3.org/2000/svg\" height=\"24px\"viewBox=\"0 0 24 24\"\n",
              "       width=\"24px\">\n",
              "    <path d=\"M0 0h24v24H0V0z\" fill=\"none\"/>\n",
              "    <path d=\"M18.56 5.44l.94 2.06.94-2.06 2.06-.94-2.06-.94-.94-2.06-.94 2.06-2.06.94zm-11 1L8.5 8.5l.94-2.06 2.06-.94-2.06-.94L8.5 2.5l-.94 2.06-2.06.94zm10 10l.94 2.06.94-2.06 2.06-.94-2.06-.94-.94-2.06-.94 2.06-2.06.94z\"/><path d=\"M17.41 7.96l-1.37-1.37c-.4-.4-.92-.59-1.43-.59-.52 0-1.04.2-1.43.59L10.3 9.45l-7.72 7.72c-.78.78-.78 2.05 0 2.83L4 21.41c.39.39.9.59 1.41.59.51 0 1.02-.2 1.41-.59l7.78-7.78 2.81-2.81c.8-.78.8-2.07 0-2.86zM5.41 20L4 18.59l7.72-7.72 1.47 1.35L5.41 20z\"/>\n",
              "  </svg>\n",
              "      </button>\n",
              "      \n",
              "  <style>\n",
              "    .colab-df-container {\n",
              "      display:flex;\n",
              "      flex-wrap:wrap;\n",
              "      gap: 12px;\n",
              "    }\n",
              "\n",
              "    .colab-df-convert {\n",
              "      background-color: #E8F0FE;\n",
              "      border: none;\n",
              "      border-radius: 50%;\n",
              "      cursor: pointer;\n",
              "      display: none;\n",
              "      fill: #1967D2;\n",
              "      height: 32px;\n",
              "      padding: 0 0 0 0;\n",
              "      width: 32px;\n",
              "    }\n",
              "\n",
              "    .colab-df-convert:hover {\n",
              "      background-color: #E2EBFA;\n",
              "      box-shadow: 0px 1px 2px rgba(60, 64, 67, 0.3), 0px 1px 3px 1px rgba(60, 64, 67, 0.15);\n",
              "      fill: #174EA6;\n",
              "    }\n",
              "\n",
              "    [theme=dark] .colab-df-convert {\n",
              "      background-color: #3B4455;\n",
              "      fill: #D2E3FC;\n",
              "    }\n",
              "\n",
              "    [theme=dark] .colab-df-convert:hover {\n",
              "      background-color: #434B5C;\n",
              "      box-shadow: 0px 1px 3px 1px rgba(0, 0, 0, 0.15);\n",
              "      filter: drop-shadow(0px 1px 2px rgba(0, 0, 0, 0.3));\n",
              "      fill: #FFFFFF;\n",
              "    }\n",
              "  </style>\n",
              "\n",
              "      <script>\n",
              "        const buttonEl =\n",
              "          document.querySelector('#df-16e1cd35-5285-4894-b611-674780d335f8 button.colab-df-convert');\n",
              "        buttonEl.style.display =\n",
              "          google.colab.kernel.accessAllowed ? 'block' : 'none';\n",
              "\n",
              "        async function convertToInteractive(key) {\n",
              "          const element = document.querySelector('#df-16e1cd35-5285-4894-b611-674780d335f8');\n",
              "          const dataTable =\n",
              "            await google.colab.kernel.invokeFunction('convertToInteractive',\n",
              "                                                     [key], {});\n",
              "          if (!dataTable) return;\n",
              "\n",
              "          const docLinkHtml = 'Like what you see? Visit the ' +\n",
              "            '<a target=\"_blank\" href=https://colab.research.google.com/notebooks/data_table.ipynb>data table notebook</a>'\n",
              "            + ' to learn more about interactive tables.';\n",
              "          element.innerHTML = '';\n",
              "          dataTable['output_type'] = 'display_data';\n",
              "          await google.colab.output.renderOutput(dataTable, element);\n",
              "          const docLink = document.createElement('div');\n",
              "          docLink.innerHTML = docLinkHtml;\n",
              "          element.appendChild(docLink);\n",
              "        }\n",
              "      </script>\n",
              "    </div>\n",
              "  </div>\n",
              "  "
            ]
          },
          "metadata": {},
          "execution_count": 39
        }
      ]
    },
    {
      "cell_type": "markdown",
      "metadata": {
        "id": "Yy8aIVQ3zgaI"
      },
      "source": [
        "3.3 Какие рецепты являются наиболее похожими? Прокомментируйте результат (словами)."
      ]
    },
    {
      "cell_type": "code",
      "execution_count": null,
      "metadata": {
        "id": "fPhDZVmpzgaI"
      },
      "outputs": [],
      "source": []
    }
  ],
  "metadata": {
    "kernelspec": {
      "display_name": "Python 3 (ipykernel)",
      "language": "python",
      "name": "python3"
    },
    "language_info": {
      "codemirror_mode": {
        "name": "ipython",
        "version": 3
      },
      "file_extension": ".py",
      "mimetype": "text/x-python",
      "name": "python",
      "nbconvert_exporter": "python",
      "pygments_lexer": "ipython3",
      "version": "3.9.12"
    },
    "colab": {
      "provenance": []
    }
  },
  "nbformat": 4,
  "nbformat_minor": 0
}